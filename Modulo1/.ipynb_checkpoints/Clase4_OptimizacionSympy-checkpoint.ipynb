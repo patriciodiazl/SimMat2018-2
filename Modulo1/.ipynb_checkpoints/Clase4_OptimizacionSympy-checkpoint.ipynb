{
 "cells": [
  {
   "cell_type": "markdown",
   "metadata": {},
   "source": [
    "# Optimización de funciones escalares diferenciables con `SymPy`\n",
    "\n",
    "<img style=\"float: right; margin: 0px 0px 15px 15px;\" src=\"https://upload.wikimedia.org/wikipedia/commons/thumb/b/b6/Extrema_example_es.svg/1200px-Extrema_example_es.svg.png\" width=\"300px\" height=\"100px\" />\n",
    "\n",
    "> - Mediante optimización se obtienen soluciones elegantes tanto en teoría como en ciertas aplicaciones. \n",
    "> - La teoría de optimización usa elementos comenzando con cálculo elemental y álgebra lineal básica, y luego se extiende con análisis funcional y convexo.\n",
    "> - Las aplicaciones en optimización involucran ciencia, ingeniería, economía, finanzas e industria.\n",
    "> - El amplio y creciente uso de la optimización lo hace escencial para estudiantes y profesionales de cualquier rama de la ciencia y la tecnología.\n",
    "\n",
    "**Referencia:**\n",
    "- http://www.math.uwaterloo.ca/~hwolkowi//henry/reports/talks.d/t06talks.d/06msribirs.d/optimportance.shtml"
   ]
  },
  {
   "cell_type": "markdown",
   "metadata": {},
   "source": [
    "<img style=\"float: right; margin: 0px 0px 15px 15px;\" src=\"https://upload.wikimedia.org/wikipedia/commons/thumb/e/e7/OpenStreetMap_routing_service.png/300px-OpenStreetMap_routing_service.png\" width=\"300px\" height=\"100px\" />\n",
    "\n",
    "Algunas aplicaciones son:\n",
    "\n",
    "1. Ingeniería\n",
    " - Encontrar la composición de equilibrio de una mezcla de diferentes átomos.\n",
    " - Planeación de ruta para un robot (o vehículo aéreo no tripulado).\n",
    " - Planeación de la mano de obra óptima en una construcción o planta de producción.\n",
    "2. Distribución óptima de recursos.\n",
    " - Distribución de rutas de vuelo.\n",
    " - Encontrar una dieta óptima.\n",
    " - Planeación de ruta óptima.\n",
    "3. Optimización financiera\n",
    " - Administración de riesgos.\n",
    " - Portafolios de inversión."
   ]
  },
  {
   "cell_type": "markdown",
   "metadata": {},
   "source": [
    "En esta clase veremos aspectos básicos de optimización. En específico, veremos cómo obtener máximos y mínimos de una función escalar de una variable (como en cálculo diferencial)."
   ]
  },
  {
   "cell_type": "markdown",
   "metadata": {},
   "source": [
    "___\n",
    "## 0. Librerías que usaremos\n",
    "\n",
    "Como ya dijimos en la primer clase `python` es el lenguaje de programación (el cual es de alto nivel). Sin embargo, `python` solo tiene unos pocos comandos primitivos y para hacer más fácil su uso en nuestras actividades de simulación en ingeniería, otras personas ya han escrito ciertas librerías por nosotros."
   ]
  },
  {
   "cell_type": "markdown",
   "metadata": {},
   "source": [
    "### 0.1 `NumPy`\n",
    "\n",
    "<img style=\"float: right; margin: 0px 0px 15px 15px;\" src=\"http://www.numpy.org/_static/numpy_logo.png\" width=\"300px\" height=\"100px\" />\n",
    "\n",
    "`NumPy` (Numerical Python) es la librería fundamental para computación científica (numérica) con `Python`. Contiene, entre otras cosas:\n",
    "- un objeto tipo arreglo N-dimensional muy poderoso\n",
    "- funciones sofisticadas\n",
    "- funciones de álgebra lineal, transformada de Fourier y números aleatorios.\n",
    "\n",
    "Por lo anterior, `NumPy` es de amplio uso entre la comunidad científica e ingenieril (por su manejo de cantidades vectoriales). De la misma manera, se usa para guardar datos. Para nuestros propósitos, se puede usar libremente.\n",
    "\n",
    "**Referencia:**\n",
    "- http://www.numpy.org/"
   ]
  },
  {
   "cell_type": "markdown",
   "metadata": {},
   "source": [
    "`NumPy` ya viene incluido en la instalación estándar de Anaconda por defecto. Para comenzar a usarlo, solo debemos de importarlo:"
   ]
  },
  {
   "cell_type": "code",
   "execution_count": 1,
   "metadata": {},
   "outputs": [],
   "source": [
<<<<<<< HEAD
    "# importar la librería numpy\n",
    "import numpy as np"
=======
    "# importar la librería numpy\n"
>>>>>>> b15895a... Clase4
   ]
  },
  {
   "cell_type": "markdown",
   "metadata": {},
   "source": [
    "### 0.2 `SymPy`\n",
    "\n",
    "<img style=\"float: right; margin: 0px 0px 15px 15px;\" src=\"http://www.sympy.org/static/images/logo.png\" width=\"300px\" height=\"100px\" />\n",
    "\n",
    "`SymPy` (Symbolic Python) es una librería de `Python` para matemáticas simbólicas. Su objetivo es convertirse en un sistema de álgebra computacional con las mejores características, manteniendo el código lo más simple posible para que sea comprensible.\n",
    "\n",
    "**Referencia:**\n",
    "- http://www.sympy.org/en/index.html"
   ]
  },
  {
   "cell_type": "markdown",
   "metadata": {},
   "source": [
    "`SymPy` ya viene incluido en la instalación estándar de Anaconda por defecto. Para comenzar a usarlo, solo debemos de importarlo:"
   ]
  },
  {
   "cell_type": "code",
   "execution_count": 2,
   "metadata": {},
   "outputs": [],
   "source": [
    "# importar la librería sympy\n",
<<<<<<< HEAD
    "import sympy as sym\n",
    "# imprimir en formato latex\n",
    "sym.init_printing(use_latex='mathjax')"
=======
    "\n",
    "# imprimir en formato latex\n"
>>>>>>> b15895a... Clase4
   ]
  },
  {
   "cell_type": "markdown",
   "metadata": {},
   "source": [
    "La funcionalidad de imprimir en formato LaTex que nos da `SymPy` mediante el proyecto `mathjax` hace de `SymPy` una herramienta muy atractiva..."
   ]
  },
  {
   "cell_type": "markdown",
   "metadata": {},
   "source": [
    "Notar que en `SymPy` y en `NumPy` existen funciones con el mismo nombre, pero reciben tipos de datos diferentes..."
   ]
  },
  {
   "cell_type": "code",
<<<<<<< HEAD
<<<<<<< HEAD
   "execution_count": 7,
=======
   "execution_count": 4,
>>>>>>> parent of 512dd5d... FinClase4
=======
   "execution_count": 4,
>>>>>>> b15895a... Clase4
   "metadata": {},
   "outputs": [
    {
     "data": {
      "text/latex": [
<<<<<<< HEAD
<<<<<<< HEAD
       "$$x$$"
      ],
      "text/plain": [
       "x"
      ]
     },
     "execution_count": 7,
=======
=======
>>>>>>> b15895a... Clase4
       "$$0.141120008059867 \\sin{\\left (x \\right )}$$"
      ],
      "text/plain": [
       "0.141120008059867⋅sin(x)"
      ]
     },
     "execution_count": 4,
<<<<<<< HEAD
>>>>>>> parent of 512dd5d... FinClase4
     "metadata": {},
     "output_type": "execute_result"
    }
   ],
   "source": [
    "sym.var('x')"
   ]
  },
  {
<<<<<<< HEAD
   "cell_type": "code",
   "execution_count": 10,
   "metadata": {},
   "outputs": [
    {
     "data": {
      "text/latex": [
       "$$\\left ( \\sin{\\left (x \\right )}, \\quad 0.14112000806\\right )$$"
      ],
      "text/plain": [
       "(sin(x), 0.14112000806)"
      ]
     },
     "execution_count": 10,
=======
>>>>>>> b15895a... Clase4
     "metadata": {},
     "output_type": "execute_result"
    }
   ],
   "source": [
<<<<<<< HEAD
    "# diferencias de funciones de sympy y numpy\n",
    "sym.sin(x), np.sin(3)"
   ]
  },
  {
=======
>>>>>>> parent of 512dd5d... FinClase4
=======
    "# diferencias de funciones de sympy y numpy\n"
   ]
  },
  {
>>>>>>> b15895a... Clase4
   "cell_type": "markdown",
   "metadata": {},
   "source": []
  },
  {
   "cell_type": "code",
<<<<<<< HEAD
<<<<<<< HEAD
   "execution_count": 18,
   "metadata": {},
=======
=======
>>>>>>> b15895a... Clase4
   "execution_count": 27,
   "metadata": {
    "collapsed": true
   },
<<<<<<< HEAD
>>>>>>> parent of 512dd5d... FinClase4
=======
>>>>>>> b15895a... Clase4
   "outputs": [],
   "source": [
    "# importar con * y ver que pasa\n",
    "# from numpy import *\n",
    "# from sympy import *\n",
    "# No recomendado"
   ]
  },
  {
   "cell_type": "markdown",
   "metadata": {},
   "source": [
    "### 0.3 `PyPlot` de `matplotlib`\n",
    "\n",
    "<img style=\"float: right; margin: 0px 0px 15px 15px;\" src=\"https://matplotlib.org/_static/logo2.svg\" width=\"300px\" height=\"100px\" />\n",
    "\n",
    "El módulo `PyPlot` de la librería `matplotlib` contiene funciones que nos permite generar una gran cantidad de gráficas rápidamente. Las funciones de este módulo están escritas con el mismo nombre que las funciones para graficar en `Matlab`.\n",
    "\n",
    "**Referencia:**\n",
    "- https://matplotlib.org/api/pyplot_summary.html"
   ]
  },
  {
   "cell_type": "code",
<<<<<<< HEAD
<<<<<<< HEAD
   "execution_count": 3,
   "metadata": {},
=======
=======
>>>>>>> b15895a... Clase4
   "execution_count": 5,
   "metadata": {
    "collapsed": true
   },
<<<<<<< HEAD
>>>>>>> parent of 512dd5d... FinClase4
=======
>>>>>>> b15895a... Clase4
   "outputs": [],
   "source": [
    "# importar matplotlib.pyplot\n",
    "import matplotlib.pyplot as plt\n",
    "# comando para que las gráficas salgan en la misma ventana\n",
    "%matplotlib inline"
   ]
  },
  {
   "cell_type": "markdown",
   "metadata": {},
   "source": [
    "Ya que revisamos todas las librerías que usaremos, empecemos con la clase como tal..."
   ]
  },
  {
   "cell_type": "markdown",
   "metadata": {},
   "source": [
    "___\n",
    "Basamos todos los resultados en los siguientes teoremas:"
   ]
  },
  {
   "cell_type": "markdown",
   "metadata": {},
   "source": [
    "## 1. Teorema de Fermat (análisis)\n",
    "\n",
    "Si una función $f(x)$ alcanza un máximo o mínimo local en $x=c$, y si la derivada $f'(c)$ existe en el punto $c$, entonces $f'(c) = 0$."
   ]
  },
  {
   "cell_type": "markdown",
   "metadata": {},
   "source": [
    "### Ejemplo\n",
    "\n",
    "Sabemos que la función $f(x)=x^2$ tiene un mínimo global en $x=0$, pues\n",
    "\n",
    "$$f(x)=x^2\\geq0,\\qquad\\text{y}\\qquad f(x)=x^2=0 \\qquad\\text{si y solo si}\\qquad x=0.$$"
   ]
  },
  {
   "cell_type": "code",
<<<<<<< HEAD
<<<<<<< HEAD
   "execution_count": 4,
=======
   "execution_count": 6,
>>>>>>> parent of 512dd5d... FinClase4
=======
   "execution_count": 6,
>>>>>>> b15895a... Clase4
   "metadata": {},
   "outputs": [
    {
     "data": {
      "text/latex": [
       "$$x$$"
      ],
      "text/plain": [
       "x"
      ]
     },
<<<<<<< HEAD
<<<<<<< HEAD
     "execution_count": 4,
=======
     "execution_count": 6,
>>>>>>> parent of 512dd5d... FinClase4
=======
     "execution_count": 6,
>>>>>>> b15895a... Clase4
     "metadata": {},
     "output_type": "execute_result"
    }
   ],
   "source": [
    "# declarar la variable real x\n",
<<<<<<< HEAD
<<<<<<< HEAD
    "sym.var('x', real=True)"
=======
    "#t = sym.Symbol('x')\n",
    "#t\n",
    "sym.var('x', real = True)"
>>>>>>> parent of 512dd5d... FinClase4
=======
    "#t = sym.Symbol('x')\n",
    "#t\n",
    "sym.var('x', real = True)"
>>>>>>> b15895a... Clase4
   ]
  },
  {
   "cell_type": "code",
<<<<<<< HEAD
<<<<<<< HEAD
   "execution_count": 5,
=======
   "execution_count": 7,
>>>>>>> parent of 512dd5d... FinClase4
=======
   "execution_count": 7,
>>>>>>> b15895a... Clase4
   "metadata": {},
   "outputs": [
    {
     "data": {
      "text/latex": [
       "$$x^{2}$$"
      ],
      "text/plain": [
       " 2\n",
       "x "
      ]
     },
<<<<<<< HEAD
<<<<<<< HEAD
     "execution_count": 5,
=======
     "execution_count": 7,
>>>>>>> parent of 512dd5d... FinClase4
=======
     "execution_count": 7,
>>>>>>> b15895a... Clase4
     "metadata": {},
     "output_type": "execute_result"
    }
   ],
   "source": [
    "# declarar ahora f=x^2 y mostrar\n",
    "f = x**2\n",
    "f"
   ]
  },
  {
   "cell_type": "code",
<<<<<<< HEAD
<<<<<<< HEAD
   "execution_count": 6,
=======
   "execution_count": 8,
>>>>>>> parent of 512dd5d... FinClase4
=======
   "execution_count": 8,
>>>>>>> b15895a... Clase4
   "metadata": {},
   "outputs": [
    {
     "data": {
      "text/latex": [
       "$$2 x$$"
      ],
      "text/plain": [
       "2⋅x"
      ]
     },
<<<<<<< HEAD
<<<<<<< HEAD
     "execution_count": 6,
=======
     "execution_count": 8,
>>>>>>> parent of 512dd5d... FinClase4
=======
     "execution_count": 8,
>>>>>>> b15895a... Clase4
     "metadata": {},
     "output_type": "execute_result"
    }
   ],
   "source": [
    "# derivar f respecto a x y mostrar\n",
    "df = sym.diff(f, x)\n",
    "df"
   ]
  },
  {
   "cell_type": "code",
<<<<<<< HEAD
<<<<<<< HEAD
   "execution_count": 30,
=======
   "execution_count": 9,
>>>>>>> parent of 512dd5d... FinClase4
=======
   "execution_count": 9,
>>>>>>> b15895a... Clase4
   "metadata": {},
   "outputs": [
    {
     "data": {
      "text/latex": [
       "$$\\left [ 0\\right ]$$"
      ],
      "text/plain": [
       "[0]"
      ]
     },
<<<<<<< HEAD
<<<<<<< HEAD
     "execution_count": 30,
=======
     "execution_count": 9,
>>>>>>> parent of 512dd5d... FinClase4
=======
     "execution_count": 9,
>>>>>>> b15895a... Clase4
     "metadata": {},
     "output_type": "execute_result"
    }
   ],
   "source": [
    "# resolver f'(x)=0 y mostrar soluciones\n",
    "xc = sym.solve(df, x)\n",
    "xc"
   ]
  },
  {
   "cell_type": "markdown",
   "metadata": {},
   "source": [
    "Veamos la gráfica..."
   ]
  },
  {
   "cell_type": "code",
<<<<<<< HEAD
<<<<<<< HEAD
   "execution_count": 7,
=======
   "execution_count": 10,
>>>>>>> parent of 512dd5d... FinClase4
=======
   "execution_count": 10,
>>>>>>> b15895a... Clase4
   "metadata": {},
   "outputs": [
    {
     "data": {
      "image/png": "iVBORw0KGgoAAAANSUhEUgAAAYYAAAEKCAYAAAAW8vJGAAAABHNCSVQICAgIfAhkiAAAAAlwSFlz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\n",
      "text/plain": [
       "<matplotlib.figure.Figure at 0x9164128>"
      ]
     },
     "metadata": {},
     "output_type": "display_data"
    }
   ],
   "source": [
    "# convertir f e una función que se pueda evaluar numéricamente (función lambdify de la librería sympy)\n",
<<<<<<< HEAD
<<<<<<< HEAD
    "fnum = sym.lambdify(x, f, modules='numpy')"
   ]
  },
  {
   "cell_type": "code",
   "execution_count": 8,
   "metadata": {
    "scrolled": false
   },
   "outputs": [],
   "source": [
    "#Coordenadas x (abscisas)\n",
    "#x = np.array([0, 0.1, 0.2, ])...\n",
    "xnum = np.linspace(-5,5,100)\n",
    "ynum = fnum(xnum)"
   ]
  },
  {
   "cell_type": "code",
   "execution_count": 26,
   "metadata": {},
   "outputs": [
    {
     "data": {
      "image/png": "iVBORw0KGgoAAAANSUhEUgAAAfYAAAF3CAYAAABXB2nBAAAABHNCSVQICAgIfAhkiAAAAAlwSFlzAAALEgAACxIB0t1+/AAAADl0RVh0U29mdHdhcmUAbWF0cGxvdGxpYiB2ZXJzaW9uIDIuMi4yLCBodHRwOi8vbWF0cGxvdGxpYi5vcmcvhp/UCwAAIABJREFUeJzs3Xd8jXf/x/H3NxuJUZqEoKG0VihRtQkSLUqsEokVK/ZKEKsopYhqFbUiiCRm7U2CdNh7hpSK24wZCZHk+/uj4aetkXFyvtc55/18PPJIzsmVc165br0/ua5znesSUkoQERGRcTBTHUBERES6w8FORERkRDjYiYiIjAgHOxERkRHhYCciIjIiHOxERERGhIOdiIjIiHCwExERGREOdiIiIiPCwU5ERGRELFQHZFWhQoWks7Oz6gy9evLkCfLkyaM6w6BxHWYf12H2cR1mnymuwyNHjtyVUr7/ruUMdrA7Ozvj8OHDqjP0KioqCvXr11edYdC4DrOP6zD7uA6zzxTXoRDiakaW4654IiIiI8LBTkREZEQ42ImIiIwIBzsREZER4WAnIiIyIhzsRERERoSDnYiIyIhwsBMRERkRDnYiIiIjotfBLoQoJoSIFEKcE0KcEUIMTL9/nBDiuhDiePpHE312ERERGQt9n1I2BcBQKeVRIYQdgCNCiJ3p3/teSjldzz1ERERGRa9b7FLKG1LKo+lfPwZwDoCTPhte5+LFi9i7d6/qDCIiMhLbt2/HX3/9peS5hZRSzRML4QxgH4AKAIYA6ALgEYDD+Hur/v5rfqYngJ4A4ODg4BoREaGTliFDhuDu3btYsmQJhBA6ecyckJCQAFtbW9UZBo3rMPu4DrOP6zD7tLwOnz9/jtatW+Ozzz7DqFGjdPa4bm5uR6SUVd+5oJRS7x8AbAEcAdAq/bYDAHP8vQdhEoDgdz2Gq6ur1JV58+ZJAPLo0aM6e8ycEBkZqTrB4HEdZh/XYfZxHWafltfhxo0bJQC5adMmnT4ugMMyAzNW70fFCyEsAawBsFxKuTb9j4tbUspUKWUagAUAqumzqXXr1rCwsICu9gAQEZHpioiIQIECBeDu7q7k+fV9VLwAsAjAOSnljFfuL/zKYi0BnNZnV8GCBeHh4YGIiAikpaXp86mJiMiIJCYmYt26dWjTpg2srKyUNOh7i70WgI4AGvzrrW1ThRCnhBAnAbgBGKznLnh5eeGvv/7CH3/8oe+nJiIiI7F582Y8efIE7du3V9ag17e7SSmjAbzu6LQt+ux4nRYtWsDGxgbh4eGoWbOm6hwiIjJA4eHhcHR0RL169ZQ18Mxz6ezs7NCsWTOsXLkSKSkpqnOIiMjAPHz4EFu2bMFXX30Fc3NzZR0c7K9o3749bt++jaioKNUpRERkYNatW4dnz57By8tLaQcH+yuaNGkCOzs7Hh1PRESZFhERAWdnZ3z22WdKOzjYX5ErVy54enpizZo1ePbsmeocIiIyEHfu3MHOnTvRvn175Sc642D/Fy8vLzx48AA7duxQnUJERAZizZo1SE1NVXo0/Asc7P/SqFEjFCxYEOHh4apTiIjIQISHh6Ns2bKoWLGi6hQO9n+ztLREmzZtsH79ejx58kR1DhERaVxcXBz279+vid3wAAf7a3Xo0AGJiYnYsGGD6hQiItK4iIgISCnRoUMH1SkAONhfq3bt2ihWrBjCwsJUpxARkcaFhYWhWrVqKFWqlOoUABzsr2VmZgYvLy9s27YNd+/eVZ1DREQade7cORw7dkwzW+sAB/sbdejQASkpKVi9erXqFCIi0qiwsDCYmZmhXbt2qlNe4mB/g4oVK6JcuXLcHU9ERK8lpURYWBgaNmwIR0dH1TkvcbC/gRACHTp0wP79+3H16lXVOUREpDEHDhxAbGyspnbDAxzsb/XifyyeYpaIiP4tLCwM1tbWaNmypeqUf+Bgf4sSJUqgRo0a3B1PRET/kJKSghUrVuDLL79Evnz5VOf8Awf7O3To0AEnT57E6dOnVacQEZFG7N69G7dv39bcbniAg/2dXlxXl1vtRET0QlhYGPLly4cvvvhCdcp/cLC/g729Pdzd3REWFoa0tDTVOUREpFhSUhLWrl2LNm3awMbGRnXOf3CwZ4C3tzeuXr2K3377TXUKEREptmHDBiQkJGhyNzzAwZ4hnp6eyJ07N5YtW6Y6hYiIFFu2bBmKFi2K+vXrq055LQ72DLC1tUXLli2xcuVKPHv2THUOEREpcufOHWzbtg0dOnSAmZk2R6g2qzTIx8cHDx48wJYtW1SnEBGRIitWrEBqaip8fHxUp7wRB3sGNWrUCA4ODggNDVWdQkREioSGhqJSpUpwcXFRnfJGHOwZZGFhAS8vL2zatAn3799XnUNERHp28eJFHDhwQNNb6wAHe6b4+PggOTkZq1atUp1CRER6tnz5cggh4OXlpTrlrTjYM6FKlSooU6YMd8cTEZkYKSVCQ0PRoEEDODk5qc55Kw72TBBCoGPHjti/fz+uXLmiOoeIiPTk999/R2xsLDp27Kg65Z042DPpxQkJli9frriEiIj0JTQ0FLly5dLcldxeh4M9k5ydnVGnTh2EhoZCSqk6h4iIclhycjJWrFiBFi1aIG/evKpz3omDPQs6duyI8+fP4/Dhw6pTiIgoh23duhX37t3T/NHwL3CwZ0Hbtm1hbW3NU8wSEZmApUuXwt7eHo0bN1adkiEc7FmQP39+tGjRAmFhYUhOTladQ0REOSQ+Ph4bN26Et7c3LCwsVOdkCAd7FnXq1Anx8fHYunWr6hQiIsohK1aswPPnz9GpUyfVKRnGwZ5FHh4esLe3x9KlS1WnEBFRDlm6dClcXFxQqVIl1SkZxsGeRZaWlvD29sbGjRsRHx+vOoeIiHTswoULOHDgADp37gwhhOqcDONgz4ZOnTrh+fPnWLFiheoUIiLSsaVLl8LMzOzl+UsMBQd7Nry4wg93xxMRGZe0tDQsW7YMHh4eKFy4sOqcTOFgzwYhBDp37owDBw7gwoULqnOIiEhH9u7di2vXrqFz586qUzKNgz2bOnToADMzM261ExEZkSVLliBv3rxo0aKF6pRM42DPpsKFC8PDwwPLli1DWlqa6hwiIsqmJ0+eYPXq1Wjbti1y5cqlOifTONh1oFOnTrh27RqioqJUpxARUTatXbsWT548Maj3rr+Kg10HPD09kS9fPoSEhKhOISKibAoJCUHJkiVRp04d1SlZwsGuA7ly5UL79u2xevVqPHr0SHUOERFl0dWrV7Fnzx506dLFoN67/ioOdh3p0qULkpKSsGrVKtUpRESURUuWLAEAg90ND3Cw68xnn32Gjz/+mLvjiYgMVFpaGkJCQtCgQQN88MEHqnOyjINdR4QQ6Nq1K6KjoxETE6M6h4iIMik6Ohp//vknunbtqjolWzjYdcjHxwdmZmYvd+UQEZHhCAkJgZ2dHVq2bKk6JVs42HXIyckJHh4eWLJkCVJTU1XnEBFRBiUkJGDlypX46quvkCdPHtU52cLBrmNdu3ZFXFwc9uzZozqFiIgyaM2aNXjy5InB74YHONh1rnnz5sifPz8PoiMiMiAhISEoVaoUatasqTol2/Q62IUQxYQQkUKIc0KIM0KIgen3vyeE2CmEiEn/XECfXbpkY2MDLy8vrF27Fg8fPlSdQ0RE7/Dnn38iKirKoN+7/ip9b7GnABgqpSwLoDqAvkKIcgBGANgtpSwNYHf6bYPVtWtXPH36FBEREapTiIjoHUJCQiCEMOj3rr9Kr4NdSnlDSnk0/evHAM4BcALQAsCLQ8mXAPDUZ5euVa1aFRUqVEBwcLDqFCIieovU1FQsXrwYHh4eKFasmOocnVD2GrsQwhlAZQAHADhIKW8Afw9/APaqunRBCIFu3brh4MGDOH36tOocIiJ6g927d+PatWvw9fVVnaIzQkqp/ycVwhbAXgCTpJRrhRAPpJT5X/n+fSnlf15nF0L0BNATABwcHFy1vKv74cOHaNOmDTw9PdG3b1+dPGZCQgJsbW118limiusw+7gOs4/rMPt0tQ4nTJiAI0eOYNWqVbCystJBWc5xc3M7IqWs+s4FpZR6/QBgCWA7gCGv3HcBQOH0rwsDuPCux3F1dZVa16ZNG1moUCH57NkznTxeZGSkTh7HlHEdZh/XYfZxHWafLtbh3bt3pZWVlRwwYED2g/QAwGGZgTmr76PiBYBFAM5JKWe88q0NADqnf90ZwHp9duUUX19f3L17Fxs3blSdQkRE/xIWFobk5GSj2g0P6P819loAOgJoIIQ4nv7RBMAUAO5CiBgA7um3DZ6HhwecnJywaNEi1SlERPQKKSUWLVoEV1dXVKpUSXWOTlno88mklNEA3vQmwYb6bNEHc3NzdOnSBZMnT0ZcXByKFi2qOomIiAAcPXoUJ06cwJw5c1Sn6BzPPJfDfH19kZaWxgvDEBFpSHBw8MsTihkbDvYcVrJkSbi5uSE4OBhpaWmqc4iITF5SUhKWL1+O1q1bI3/+/O/+AQPDwa4Hvr6+iI2Nxd69e1WnEBGZvF9++QUPHz40uoPmXuBg14PWrVsjX758WLhwoeoUIiKTt2DBApQoUQL169dXnZIjONj1IFeuXPDx8cGaNWtw79491TlERCYrJiYGUVFR6N69O8zMjHMEGudvpUE9evTAs2fPEBoaqjqFiMhkLVq0CObm5kZx3fU34WDXk0qVKuHTTz/FggULXpxtj4iI9Oj58+cICQlBs2bNULhwYdU5OYaDXY+6d++O06dP48CBA6pTiIhMzsaNG3Hr1i10795ddUqO4mDXIy8vL+TJkwcLFixQnUJEZHIWLFgAJycnfP7556pTchQHux7Z2dmhffv2iIiIwKNHj1TnEBGZjKtXr2L79u3w9fWFhYVeT7qqdxzsetajRw8kJiYiPDxcdQoRkckIDg4GAHTr1k1xSc7jYNezatWqwcXFhe9pJyLSk9TUVAQHB8PDwwMffPCB6pwcx8GuZ0II9OjRA4cPH8bx48dV5xARGb3t27cjLi4OPXr0UJ2iFxzsCvj4+MDGxgbz589XnUJEZPTmz58Pe3t7fPnll6pT9IKDXYECBQqgbdu2CA0NRUJCguocIiKjFRcXh02bNqFr166wsrJSnaMXHOyK+Pn54fHjx4iIiFCdQkRktBYtWoTU1FT07NlTdYrecLArUqNGDVSoUAE///yz6hQiIqOUkpKChQsXwsPDAyVLllSdozcc7IoIIdCrVy8cOXIER44cUZ1DRGR0tm7diri4OPTq1Ut1il5xsCvk4+ODXLlyYd68eapTiIiMzrx58+Do6GgyB829wMGuUP78+eHl5YWwsDCeiY6ISIeuXr2KLVu2oHv37rC0tFSdo1cc7Ir16tULT548QVhYmOoUIiKj8eIkYMZ+wZfX4WBX7NNPP8Unn3yCn3/+mZdzJSLSgefPn2PRokX44osvTOJMc//Gwa7Yi4PoTpw4gYMHD6rOISIyeBs3bsSNGzdM7qC5FzjYNcDb2xu2trZ86xsRkQ7MmzcPTk5OaNKkieoUJTjYNcDOzg4+Pj6IiIjAvXv3VOcQERmsmJgY7NixA7169TL6y7O+CQe7RvTu3RtPnz5FSEiI6hQiIoP1888/w8LCwiQPmnuBg10jKlasiFq1auHnn39GWlqa6hwiIoOTlJSExYsXo2XLlihcuLDqHGU42DWkT58+iImJwe7du1WnEBEZnBUrVuD+/fvo06eP6hSlONg1pHXr1nj//fcxZ84c1SlERAZnzpw5KFu2LOrVq6c6RSkOdg2xtrZGt27dsGHDBly7dk11DhGRwTh06BAOHTqE3r17QwihOkcpDnaN6dWrF6SUmD9/vuoUIiKDMXfuXOTOnRudOnVSnaIcB7vGODs7o2nTpli4cCGSk5NV5xARad79+/cRHh4OHx8f5MuXT3WOchzsGtSnTx/cvHkT69atU51CRKR5ISEhePr0KXr37q06RRM42DWocePGKFGiBGbPnq06hYhI09LS0jBnzhzUqFEDn3zyieocTeBg1yAzMzP06dMH+/btw8mTJ1XnEBFp1o4dO3Dp0iX069dPdYpmcLBrlK+vL3LlyoWffvpJdQoRkWb99NNPcHBwQJs2bVSnaAYHu0a999578Pb2RmhoKO7fv686h4hIcy5fvowtW7agV69esLKyUp2jGRzsGtavX7+Xp0gkIqJ/mjNnDszNzU328qxvwsGuYZUqVUKdOnUwe/ZspKamqs4hItKMpKQkBAcHo3Xr1ihSpIjqHE3hYNe4fv36ITY2Ftu2bVOdQkSkGbt27cKDBw940NxrcLBrXMuWLVGkSBHMmjVLdQoRkSZIKbFu3TpUqlQJtWrVUp2jORzsGmdpaQk/Pz9s376d548nIgKwf/9+xMbGon///iZ/XvjX4WA3AD169IClpSXPREdEBGDWrFmws7ODl5eX6hRN4mA3AI6Ojvjqq6+wbds2PHr0SHUOEZEy165dwy+//IImTZogd+7cqnM0iYPdQAwYMACJiYkICQlRnUJEpMzs2bMhpYSnp6fqFM3iYDcQ1apVQ/ny5TFr1iykpaWpziEi0rvExETMnz8fLVu2hKOjo+oczeJgNyCtWrXCpUuXsGXLFtUpRER69+JMnAMHDlSdomkc7Aakbt26cHJywg8//KA6hYhIr6SU+OGHH1ClShXUrl1bdY6mcbAbEAsLC/Tt2xe7du3CmTNnVOcQEenNrl27cPbsWQwcOJBvcXsHDnYD07NnT9jY2ODHH39UnUJEpDc//PADHBwc0K5dO9UpmqfXwS6ECBZC3BZCnH7lvnFCiOtCiOPpH0302WRoChYsiI4dO2LZsmWIj49XnUNElONiYmKwefNm+Pn5wdraWnWO5ul7iz0EwOevuf97KeUn6R88MuwdBgwYgKSkJCxYsEB1ChFRjps1axasrKzg5+enOsUg6HWwSyn3Abinz+c0RhUqVEDDhg0xe/ZsPH/+XHUOEVGOefDgARYvXoz27dvzLW4ZpJXX2PsJIU6m76ovoDrGEAwePBhxcXFYvXq16hQiohyzcOFCJCQkYNCgQapTDIaQUur3CYVwBrBJSlkh/bYDgLsAJIBvABSWUvq+4Wd7AugJAA4ODq4RERH6SNaMhIQE2NraAgDS0tLQpUsX5M6dG3PnzuVRohn06jqkrOE6zD6uw4xJSUmBt7c3nJycMGPGjH98zxTXoZub2xEpZdV3Liil1OsHAGcApzP7vX9/uLq6SlMTGRn5j9s///yzBCD37dunJsgA/XsdUuZxHWYf12HGhIeHSwBy48aN//meKa5DAIdlBuaj8l3xQojCr9xsCeD0m5alf+rYsSMKFiyIoKAg1SlERDolpURQUBA+/vhjNGnCN0tlhr7f7hYO4HcAHwsh4oQQ3QBMFUKcEkKcBOAGYLA+mwxZ7ty50adPH2zYsAExMTGqc4iIdCY6OhqHDx/G4MGDYWamfBvUoOj7qHgvKWVhKaWllLKolHKRlLKjlNJFSllRStlcSnlDn02Grk+fPrC0tORpZonIqMyYMePleTsoc/hnkIFzdHSEt7c3Fi9ejHv3+E5CIjJ8ly5dwvr169G7d29ecz0LONiNwODBg19ezpCIyND98MMPsLS0RN++fVWnGCQOdiPg4uICd3d3/Pjjj0hOTladQ0SUZffu3UNwcDA6dOjAE9JkEQe7kRg6dChu3LiBsLAw1SlERFk2d+5cJCYmYsiQIapTDBYHu5Hw8PBAxYoVMX369BfnBCAiMihPnz7FrFmz8Pnnn8PFxUV1jsHiYDcSQgj4+/vjzJkz2Lp1q+ocIqJMW7ZsGW7duoWAgADVKQaNg92ItG/fHkWLFsXUqVNVpxARZUpaWhqCgoJQpUoVuLm5qc4xaO8c7EIIdyHEAiHEJ+m3e+Z8FmWFpaUlBg0ahL179+LQoUOqc4iIMmzjxo24cOECAgICeO2LbMrIFnsfAAEAfIQQDQB8krNJlB09evRA3rx5MW3aNNUpREQZNm3aNDg7O6NNmzaqUwxeRgb7HSnlAymlPwAPAJ/mcBNlQ968edG7d2+sWbMGly9fVp1DRPROv/32G3799VcMGTIEFhYWqnMMXkYG++YXX0gpRwBYmnM5pAsDBgyAubn5fy5zSESkRdOmTcN7770HX9/XXrGbMumdg11Kuf7F10KImQB+ytEiyrYiRYrAx8cHixcvxp07d1TnEBG90YULF7B+/Xr06dMHefLkUZ1jFDJ7VHwCgA1CiDwAIITwEEL8qvssyq6AgAAkJSVh1qxZqlOIiN5o2rRpsLa2Rv/+/VWnGI1MDXYp5WgA4QCihBDRAIYCGJETYZQ9ZcuWhaenJ2bNmoXHjx+rziEi+o+4uDgsXboU3bp1g729veoco5GpwS6EaAigB4AnAN4HMEBKuT8nwij7RowYgQcPHvDiMESkSd9//z3S0tLg7++vOsWoZHZX/CgAY6SU9QG0AbAi/S1wpEGfffYZ3NzcMGPGDDx79kx1DhHRS/Hx8Zg3bx68vLzg7OysOseoZHZXfAMpZXT616cAfAFgYk6EkW4EBgbif//7H5YtW6Y6hYjopdmzZ+PJkycYPny46hSjk61TykopbwBoqKMWygGNGjVClSpVMHXqVKSmpqrOISLCkydP8OOPP+LLL79EhQoVVOcYnWyfK15KmaSLEMoZQggEBgYiJiYGa9euVZ1DRIQFCxYgPj4eI0bw2OuckOnB/uI1db62bjhatmyJjz76CFOmTOElXYlIqeTkZAQFBaFu3bqoWbOm6hyjlJUt9un/+kwaZ25ujmHDhuHo0aPYvn276hwiMmGhoaGIi4vj1noOys6ueF5+x4B07NgRRYsWxaRJk1SnEJGJSk1NxeTJk1G5cmV8/vnnqnOMFq/HbiKsrKwwfPhwREdHY9++fapziMgErVy5EpcuXcLo0aN5adYcxMFuQrp16wYHBwdMnMh3KBKRfqWlpWHSpEkoV64cPD09VecYNQ52E5IrVy74+/tj586dOHDggOocIjIh69evx5kzZzBq1CiYmXH05KSsrN2E9M88AbkB8vPzw3vvvcfX2olIb6SUmDhxIkqVKoWvvvpKdY7Ry/Rgl1LWffUzGRZbW1sMGjQIGzduxPHjx1XnEJEJ2L59O44ePYrAwEBYWFiozjF63B9igvr374+8efPi22+/VZ1CREZOSolvvvkGxYsXh4+Pj+ock8DBboLy58+Pfv36YfXq1Th37pzqHCIyYnv37sVvv/2G4cOHw8rKSnWOScjSYBdC5BFCmOs6hvRn8ODByJ07N4+QJ6IcNX78eBQuXBi+vr6qU0xGhga7EMJMCNFBCLFZCHEbwHkAN4QQZ4QQ04QQpXM2k3StUKFC6Nu3L8LDw3H+/HnVOURkhPbu3YuoqCiMGDECNjY2qnNMRka32CMBfAggEICjlLKYlNIeQB0AfwCYIoTgiycGxt/fH7ly5eJWOxHliBdb6z169FCdYlIyOtgbSSm/kVKelFKmvbhTSnlPSrlGStkawIqcSaSc8v7777/car9w4YLqHCIyInv37kVkZCSGDx+OXLlyqc4xKRka7FLK5wAghJgp3nAewBfLkGHx9/eHjY0Nt9qJSKfGjx8PR0dH9OzZU3WKycnswXMJADYIIfIAgBDCQwjxq+6zSF/s7e3Rp08fhIWF4eLFi6pziMgI7Nu3j1vrCmVqsEspRwMIBxAlhIgGMBQAr71n4Pz9/WFtbc2tdiLSifHjx8PBwQG9evVSnWKSMjXYhRANAfQA8ATA+wAGSCn350QY6Y+DgwP69OmD5cuXc6udiLIlOjoae/bs4da6QpndFT8KwBgpZX0AbQCsEEI00HkV6V1AQACsra0xYcIE1SlEZMDGjBnDrXXFMrsrvoGUMjr961MAvgDA/bdGwMHBAf3790dYWBjOnj2rOoeIDNCePXsQFRWFwMBA5M6dW3WOycroCWredCT8DQAN37YMGY6AgADkyZMH48aNU51CRAZGSokxY8bAycmJW+uKZXSLfY8Qor8QovirdwohrADUEEIsAdBZ53WkV4UKFcLgwYOxatUqXvmNiDJl27Zt+O233zB69GieZU6xjA72GACpAH4RQvxPCHFWCBGbfr8XgO+llCE51Eh6NGTIEOTPnx9ff/216hQiMhBSSowdOxbOzs48J7wGZHSw15RSzgEgABTH37vfq0gpP5BS9pBScvPOSOTPnx9Dhw7Fhg0bcOjQIdU5RGQANmzYgMOHD2Ps2LG8gpsGZHSwbxdC/A7AAUAnAEUAPM2xKlJq4MCBKFiwIMaMGaM6hYg0Li0tDWPGjEHp0qXRsWNH1TmEjJ9SdigAb/y9O74EgDEATqVf3Y3niDcydnZ2GD58OLZv347o6GjVOUSkYatXr8apU6fw9ddfw8LCQnUOIRNvd5NSxuLvi8GMkVJ6SilLA/gMwPc5VkfK9O3bF46Ojhg5ciSklKpziEiDUlJSMGbMGJQrVw7t27dXnUPpMvs+9ov/up0gpfxDt0mkBblz58aYMWOwf/9+bNu2TXUOEWlQSEgILl68iEmTJsHc3Fx1DqXL7JnnyIR0794dJUuWRGBgINLS0t79A0RkMpKSkjB+/Hh89tlnaNGiheocegUHO72RlZUVJkyYgBMnTmDlypWqc4hIQ+bMmYO4uDhMmTIFPD+ZtnCw01t5eXmhYsWKGD16NJ4/f646h4g04OHDh5g8eTI8PDxQv3591Tn0L3od7EKIYCHEbSHE6Vfue08IsVMIEZP+uYA+m+jtzMzMMGnSJFy+fBnBwcGqc4hIA4KCghAfH49vv/1WdQq9hr632EMAfP6v+0YA2J1+lP1u8PrumtO0aVPUqlUL48ePR2JiouocIlLo9u3bmDFjBtq2bQtXV1fVOfQaeh3sUsp9AO796+4WAJakf70EgKc+m+jdhBCYPHkybty4gVmzZqnOISKFJk2ahKdPn+Kbb75RnUJvoIXX2B3SrxL34mpx9op76DXq1KmDpk2bYvLkyYiPj1edQ0QKXL58GXPnzoWvry8+/vhj1Tn0BkLfJx8RQjgD2CSlrJB++4GUMv8r378vpXzt6+xCiJ4AegKAg4ODa0RERM5WcMzyAAAgAElEQVQHa0hCQgJsbW2VPf+ff/6J7t27o1WrVujbt6+yjuxQvQ6NAddh9hnqOpwwYQJ+//13hIaGomDBgkpbDHUdZoebm9sRKWXVdy4opdTrBwBnAKdfuX0BQOH0rwsDuJCRx3F1dZWmJjIyUnWC7Natm7S0tJSxsbGqU7JEC+vQ0HEdZp8hrsMDBw5IAHLs2LGqU6SUhrkOswvAYZmB+aiFXfEb8P/Xcu8MYL3CFnqH8ePHw8LCAqNGjVKdQkR6IqXEsGHDYG9vD39/f9U59A76frtbOIDfAXwshIgTQnQDMAWAuxAiBoB7+m3SKCcnJwwZMgTh4eE4cuSI6hwi0oMtW7Zg7969GDduHOzs7FTn0Dvo+6h4LyllYSmlpZSyqJRykZQyXkrZUEpZOv3zv4+aJ40ZNmwYChUqhICAAF4ghsjIpaSkYNiwYfjoo4/QvXt31TmUAVrYFU8GJm/evBg7diwiIyN5gRgiI7dkyRKcPXsWkydPhqWlpeocygAOdsqSXr16oVSpUggICEBKSorqHCLKAQkJCRgzZgxq1KiBli1bqs6hDOJgpyyxsrLCd999hzNnzmDhwoWqc4goB0ydOhU3btzAjBkzeKEXA8LBTlnWsmVL1K1bF2PHjsXDhw9V5xCRDl27dg3Tp0+Hl5cXqlevrjqHMoGDnbJMCIEZM2bg7t27vBgEkZEZOXIk0tLSMHnyZNUplEkc7JQtrq6u6NSpE2bOnInY2FjVOUSkAwcPHkRoaCiGDBmCDz74QHUOZRIHO2XbpEmTYGFhgREjeGE+IkMnpcSQIUNgb2+PwMBA1TmUBRzslG1OTk4YNmwYVq1ahejoaNU5RJQNq1evxq+//oqJEyfyZDQGioOddMLf3x9FihTB4MGDkZaWpjqHiLIgKSkJw4YNg4uLC3x9fVXnUBZxsJNO5MmTB9999x0OHz6MkJAQ1TlElAVBQUG4cuUKvv/+e5ibm6vOoSziYCed8fb2Ro0aNRAYGMi3vxEZmGvXrmHy5Mlo3bo1GjZsqDqHsoGDnXRGCIFZs2bhzp07mDBhguocIsqEYcOGIS0tDdOnT1edQtnEwU465erqim7duuHHH3/E+fPnVecQUQbs378fERERGDZsGJydnVXnUDZxsJPOTZo0CXny5MGgQYN49TcijUtNTUX//v1RrFgxDB8+XHUO6QAHO+mcvb09xo0bh+3bt2PTpk2qc4joLRYuXIgTJ05g+vTpyJ07t+oc0gEOdsoRffv2RdmyZTFo0CA8ffpUdQ4RvUZ8fDxGjRqFevXqoW3btqpzSEc42ClHWFpaYtasWYiNjcXUqVNV5xDRa4wcORIPHjzAjz/+yKu3GREOdsoxDRs2RLt27TB58mSeR55IYw4ePIgFCxZgwIABqFixouoc0iEOdspRQUFBsLCwwIABA3ggHZFGpKamonfv3nB0dMS4ceNU55COcbBTjnJycsL48eOxefNmbNiwQXUOEQGYP38+jh49ihkzZiBv3ryqc0jHONgpx/Xv3x8VKlTAwIEDkZiYqDqHyKTdvn0bI0eORIMGDdCuXTvVOZQDONgpx1laWmLOnDm4evUqvv32W9U5RCZt+PDhePLkCWbPns0D5owUBzvpRZ06ddCpUydMnToV586dU51DZJL27duHkJAQDB06FGXKlFGdQzmEg530Ztq0abCzs4Ofnx8v7UqkZ8+ePUOvXr3g7OyM0aNHq86hHMTBTnpjb2+PadOmYd++fVi8eLHqHCKT8t133+H8+fOYM2cO8uTJozqHchAHO+lV165dUbduXQQEBOD27duqc4hMwsWLFzFp0iS0a9cOX3zxheocymEc7KRXQgjMmzcPCQkJGDJkiOocIqMnpYSfnx9y5cqFmTNnqs4hPeBgJ70rU6YMAgMDsXz5cuzcuVN1DpFRW7JkCSIjI/Hdd9/B0dFRdQ7pAQc7KREYGIiPPvoIfn5+fG87UQ65c+cO/P39UatWLfTo0UN1DukJBzspYWNjg/nz5yM2NhZjx45VnUNklAYMGIBHjx5h3rx5MDPj/92bCv4vTcrUq1cPvXr1wvfff4+DBw+qziEyKhs2bEBERARGjx6N8uXLq84hPeJgJ6W+++47FC5cGL6+vkhOTladQ2QUHjx4gN69e8PFxQUjRoxQnUN6xsFOSuXLlw/z5s3DmTNneLpZIh0JCAjAzZs3sWjRIlhZWanOIT3jYCflmjZtCm9vb0yaNAmnTp1SnUNk0Hbv3o2FCxdi6NCh+PTTT1XnkAIc7KQJM2fORIECBeDr64uUlBTVOUQG6cmTJ+jZsydKlSqF8ePHq84hRTjYSRMKFSqEn376CYcPH8a0adNU5xAZpBEjRiA2NhYLFy5Erly5VOeQIhzspBlt27ZFmzZt8PXXX3OXPFEm7dmzBz/99BMGDhyIevXqqc4hhTjYSTOEEJgzZw4KFCiATp068Sh5ogx69OgRunbtitKlS/MgVOJgJ215//33MW/ePBw/fhyTJk1SnUNkEIYOHYq4uDgsWbIEuXPnVp1DinGwk+Z4enrCx8cHkyZNwpEjR1TnEGnali1bsHDhQgQEBKBGjRqqc0gDONhJk3788Uc4ODigU6dOePr0qeocIk26d+8eunfvjvLly/MoeHqJg500qUCBAli0aBHOnj2LUaNGqc4h0hwpJXr37o07d+5g6dKlsLa2Vp1EGsHBTpr1+eefo0+fPpgxYwZ27dqlOodIU0JDQ7Fy5UqMHz8eVapUUZ1DGsLBTpo2bdo0lClTBp07d0Z8fLzqHCJN+PPPP9G3b1/Url0bw4cPV51DGsPBTpqWO3duLF++HHfu3EGvXr0gpVSdRKRUamoqOnbsCCEEli1bBnNzc9VJpDEc7KR5VapUwTfffIM1a9ZgyZIlqnOIlJoyZQp+/fVXzJ49G87OzqpzSIM42Mkg+Pv7o169eujfvz8uX76sOodIiUOHDmHcuHFo164dvL29VeeQRnGwk0EwNzfH0qVLYWFhAS8vL56VjkzOo0eP0L59exQuXBhz586FEEJ1EmkUBzsZjOLFi2PRokU4dOgQRo4cqTqHSG+klOjVqxeuXr2K8PBwFChQQHUSaRgHOxmUVq1aoU+fPggKCsKWLVtU5xDpRXBwMCIiIjB+/HjUqlVLdQ5pHAc7GZygoCBUrFgRnTt3xvXr11XnEOWoM2fOoH///mjYsCFGjBihOocMgGYGuxDiihDilBDiuBDisOoe0i4bGxusWLECiYmJ8PHxQWpqquokohyRlJSEdu3awdbWlm9towzTzGBP5yal/ERKWVV1CGlbmTJlMGfOHERFReGbb75RnUOUIwYMGIAzZ85g2bJlKFy4sOocMhBaG+xEGda5c2d06dIFEyZMwLZt21TnEOlUSEgIFi5ciMDAQDRu3Fh1DhkQLQ12CWCHEOKIEKKn6hgyDLNnz4aLiwu8vb3x119/qc4h0okTJ06gd+/ecHNzw4QJE1TnkIERWjlFpxCiiJTyf0IIewA7AfSXUu771zI9AfQEAAcHB9eIiAgFpeokJCTA1tZWdYbmxMXFwc/PD8WKFcMPP/wAKyurNy7LdZh9XIfZ97Z1mJCQAD8/Pzx79gzz5s3De++9p+c6w2CK/w7d3NyOZOSlagt9xGSElPJ/6Z9vCyF+AVANwL5/LTMfwHwAqFq1qqxfv76+M5WKioqCqf3OGZUnTx60atUKGzZswE8//fTG5bgOs4/rMPvetA6llGjVqhVu3bqFqKgovrXtLfjv8M00sSteCJFHCGH34msAHgBOq60iQ9KyZUv4+/tj9uzZWL58ueocoiyZPn061q1bh6lTp3KoU5ZpYrADcAAQLYQ4AeAggM1SSh4NRZkyefJk1KtXDz169MCxY8dU5xBlyo4dOzBixAi0bdsWgwYNUp1DBkwTg11KGSulrJT+UV5KOUl1ExkeCwsLrFy5EoUKFYKnpydu376tOokoQy5fvoz27dujfPnyCA4O5nngKVs0MdiJdMXe3h6//PILbt++ja+++grPnz9XnUT0VgkJCfD09AQArFu3zuQOCCPd42Ano+Pq6oqFCxdi7969GDJkiOocojeSUqJz5844e/YsVq5ciZIlS6pOIiOgmaPiiXTJ29sbx44dQ1BQED755BN069ZNdRLRf0yaNAlr165FUFAQGjVqpDqHjAS32MloTZkyBe7u7ujduzf27t2rOofoH1atWoUxY8bAx8cHgwcPVp1DRoSDnYzWi4PpPvzwQ7Rq1QoxMTGqk4gAAOfOnUOnTp1Qs2ZNLFiwgAfLkU5xsJNRy58/PzZt2gQhBJo1a4ZHjx6pTiIT99dff2HUqFEoXLgw1q1bBxsbG9VJZGQ42Mnoffjhh1i3bh2uXLmCcePGITk5WXUSmajHjx+jWbNmSE5OxqZNm/D++++rTiIjxMFOJqF27dpYuHAhjh07ht69e0Mr10gg05GSkoL27dvj7Nmz+Prrr1GuXDnVSWSkeFQ8mYyOHTti586dCA4ORrFixTBu3DjVSWQipJTo3bs3tmzZgrlz56JMmTKqk8iIcbCTSenatSssLCwwfvx4ODk5oUePHqqTyARMmDABCxcuxKhRo+Dn54eoqCjVSWTEONjJpAghMG/ePNy8eRN+fn5wdHTEl19+qTqLjNiCBQswbtw4dOnSBd98843qHDIBfI2dTI6lpSVWrlyJKlWqoF27dvjjjz9UJ5GR2rRpE/z8/PD5559j/vz5fFsb6QUHO5kkW1tbbN68GUWKFEHTpk1x5swZ1UlkZPbv34+vvvoKlStXxqpVq2Bpaak6iUwEBzuZLHt7e+zYsQPW1tZwd3dHbGys6iQyEkePHkWzZs1QvHhxbNmyhRd2Ib3iYCeTVrJkSezcuRPPnj1Dw4YNcf36ddVJZODOnTuHxo0bI3/+/Ni5cyfs7e1VJ5GJ4WAnk1e+fHls27YN8fHxcHd3x927d1UnkYG6cuUK3N3dYW5ujl27dqFYsWKqk8gEcbATAfj000+xceNG/Pnnn2jcuDHu37+vOokMzPXr19GoUSMkJiZi586dKF26tOokMlEc7ETp6tWrh7Vr1+L06dPw8PDAgwcPVCeRgbh+/Trq16+P27dvY+vWrXBxcVGdRCaMg53oFV988QXWrFmDEydOwN3dncOd3un69etwc3PDrVu3sGPHDnz22Weqk8jEcbAT/UuzZs2wdu1anDhxglvu9FYvhvrNmzexfft2VK9eXXUSEQc70es0a9YMa9aswfHjx+Hh4cHX3Ok/4uLi0KBBA9y4cQPbtm1DjRo1VCcRAeBgJ3qjL7/8EqtXr8aJEydQv3593Lp1S3USacTly5dRu3btl0O9Zs2aqpOIXjKqc8U/f/4ccXFxePr0qeqUHJEvXz6cO3furcvY2NigaNGiPMuVjjRv3hybNm2Cp6cn6tati507d6J48eKqs0ihM2fOwN3dHcnJyYiMjISrq6vqJKJ/MKrBHhcXBzs7Ozg7OxvlOZkfP34MOzu7N35fSon4+HjExcWhRIkSeiwzbu7u7tixYweaNGmCOnXqYNeuXXwrk4k6fPgwGjduDGtra+zbt4/XVCdNMqpd8U+fPkXBggWNcqhnhBACBQsWNNo9FirVqlULUVFRSExMRJ06dXDs2DHVSaRnkZGRaNCgAfLly4fo6GgOddIsoxrsAEx2qL9g6r9/TqpcuTL2798PKysr1K1bFzt27FCdRHoSFhaGxo0bo3jx4ti/fz9KliypOonojYxusBPlpDJlyuCPP/5AyZIl0bRpUyxZskR1EuUgKSWmTp0Kb29v1KxZE9HR0XByclKdRfRWHOxEmVSkSBHs378f9erVQ5cuXTBx4kRIKVVnkY6lpqaif//+GD58ONq1a4ft27cjf/78qrOI3omD3cCsW7cOPXr0QIsWLbgrWKG8efNiy5Yt8PHxwZgxY9C1a1c8e/ZMdRbpyKNHj9C8eXPMnj0bQ4cORVhYGKytrVVnEWWIUR0Vbwo8PT3h6emJ+/fvw9/fHx4eHqqTTJaVlRWWLl2KUqVKYdy4cbh48SLWrl0LR0dH1WmUDZcvX0bz5s1x4cIFzJkzB71791adRJQp3GI3UBMnTkTfvn1VZ5g8IQS+/vprrFq1CsePH0e1atV4xLwBi4yMRLVq1XDjxg3s2LGDQ50MEge7jp06dQq1atV6efvo0aNo0KBBlh7Lzc0NO3fuBACMHj0aAQEBkFJi+PDh+OKLL1ClShWdNFP2tWnTBtHR0ZBSonbt2ggPD1edRJkgpcSsWbPg4eEBBwcHHDx4MMv/3RKpxl3xOla+fHlcvnwZqampMDc3x9ChQxEUFPSPZerUqYPHjx//52enT5+ORo0avbw9fvx4jB07Frdv38axY8ewfPlyzJo1C7t27cLDhw9x6dIl+Pn55fjvRBlTpUoVHDp0CG3atEGHDh3w66+/IigoiK/Natzjx4/Ro0cPrFixAs2aNUNoaCjy5cunOosoy4x2sA8aNAjHjx/X6WN+8sknmDlz5luXMTMzQ/ny5XHmzBnExMSgePHi/9my3r9/f4aer27dupBSYsaMGYiKigIADBgwAAMGDMhSP+U8R0dHREZGYsSIEZgxYwYOHTqElStX4oMPPlCdRq9x5swZtG7dGjExMfj2228xfPhwmJlxRyYZNqMd7CpVr14dv/76K+bMmYNt27b95/sZ3WI/deoUbty4gUKFCsHOzu61P0PaY2lpiaCgINSqVQtdunRBlSpVEBISgi+//FJ1GqWTUmLp0qXo06cPbG1tsWvXLri5uanOItIJox3s79qyzknVq1dHly5d0Ldv39eezCIjW+w3btyAt7c31q9fjwEDBmD79u28gpSBadWqFVxcXNC2bVs0b94cvXv3xvTp05E7d27VaSbt/v378PPzw8qVK1G3bl2Eh4ejSJEiqrOIdIb7nHJAmTJlYG1tjeHDh2fp5xMTE9GqVSsEBQWhbNmyGDNmDMaNG6fbSNKL0qVL48CBAxg6dCjmzp0LV1dXHD16VHWWyYqMjETFihWxdu1aTJo0CXv27OFQJ6PDwZ4DfvjhB0yePBl58uTJ0s/nzp0bv//+O9zd3QH8/Vr777//rstE0iNra2tMnz4dO3fuxKNHj1C9enV8++23eP78ueo0k5GYmAh/f380bNjw5X9fI0eOhLm5ueo0Ip3jYNehy5cvo0yZMkhKSkLnzp1V55DGNGrUCCdPnkTLli0xatQoVKtWjVvvehAVFYVKlSohKCgIvXr1wtGjR1G1alXVWUQ5hoNdhz788EOcP38eixYtUp1CGlWwYEGsWLECa9euxc2bN1GtWjUEBgYiKSlJdZrRefjwIfz8/ODm5gYpJfbs2YO5c+dmeU8akaHgYCdSoGXLljh79iw6d+6MKVOmoEKFCti4cSMvJqMDUkqEhoaibNmyWLBgAfz9/XHy5Eke9U4mg4OdSJECBQpg0aJF2L17N6ytrdG8eXM0bdoUFy9eVJ1msI4ePYratWujY8eOKFq0KP744w9MmzaN70Qgk8LBTqRYgwYNcOLECQQFBSE6OhoVKlRAQEAA7t27pzrNYPzvf/9Dr169ULVqVcTExGDRokX4448/8Omnn6pOI9I7DnYiDbC0tMSQIUNw8eJFeHt7IygoCCVLlsTkyZPx5MkT1Xmadf/+fQQGBqJUqVJYvHgxBgwYgIsXL8LX15dnkCOTxX/5RBri6OiIxYsX48SJE6hbty5GjhyJUqVKYfbs2TzA7hWPHj3ClClTULJkSXz33Xdo1aoVzp8/j5kzZyJ//vyq84iU4mAn0iAXFxds2LAB0dHRKF26NPr164cSJUpgypQpePjwoeo8ZW7fvo1Ro0ahePHiCAwMRM2aNXHs2DGEhoaiZMmSqvOINIGDnUjDatWqhb179yIyMhKVKlVCYGAgihcvjuHDh+PKlSuq8/Tm/Pnz6NevHz744ANMnjwZjRo1wqFDh7B582ZUqlRJdR6RpnCwE2mcEAL169fH9u3bceTIETRu3BjTp09HyZIl8eWXX2Lr1q1IS0tTnalzz58/x+rVq9GgQQOULVsW8+fPh5eXF86ePYvVq1fzJDNEb2Dygz0l5SFOnWqJlBTT3b1JhqNKlSpYuXIl/vzzT4wcORKHDh1CkyZN8OGHH2L06NE4d+6c6sRskVLi6NGjGDp0KIoXL462bdsiNjYW3377LeLi4hAcHIwyZcqoziTSNJMf7HfvbkB8/DrcvbtRZ4+ZlJSEevXqITU1Fdu2bcPHH3+MUqVKYcqUKe/82dctn5ycjLp16yIlJUVnjWTYihcvjokTJ+Kvv/5CREQESpcujcmTJ6NcuXKoUqUKpk+fjpiYGJ0/799/AI/R6R/CUkqcOnUKEydORLly5eDq6opZs2ahWrVq2LhxIy5fvozAwEDY29vr7DmJjJlmBrsQ4nMhxAUhxCUhxAh9Pe/Nm8H/+KwLwcHBaNWqFQCgb9++2Lp1K86ePYvw8HCcPXv2jT+Xmpr62uWtrKzQsGFDrFmzRmeNZBysrKzQrl077NixA3FxcZg5cyYsLCwQEBCAjz76CB999BGGDBmC3bt36+So+rt3NwCIzvYfwo8fP8bmzZvRp08fODs7o2LFihgzZgwcHBwwb9483Lx5E+vXr0ezZs14oRaiTNLE9diFEOYAZgNwBxAH4JAQYoOU8s1TMIuOH2+EBw92v/LcVgCAhw9/RVSUeHl//vwN8cknu7L0HMuXL0dYWBgOHjyIUqVKvTxat3379li/fj3KlSv32p972/Kenp4ICAhA9+7ds9RExq9w4cIYOHAgBg4ciCtXrmDz5s3YtGkT5syZg++//x6WlpZwdXVFnTp1ULt2bVSuXBlFixaFEOLdD57u1T+EHR19MvQzaWlpuHLlCo4ePYr9+/cjOjoax48fR1paGvLkyQN3d3eMHTsWTZo0QeHChbP0uxPR/9PEYAdQDcAlKWUsAAghIgC0AKDzwf7BB6Pw6NHvSEtLBABImfyPzwBgZpYbH3wwOkuPn5ycjNjYWDg7O+Pw4cMoVqzYy+8VLVoUBw4ceOPPXr9+/Y3LV6hQgVcCowxzdnZG37590bdvXzx58gRRUVGIjo7G/v378cMPP2DatGkAgPz588PFxQUuLi748MMPUbx48ZcfhQoVwunTn2foD+F8+RrA3n4p/vrrr5cfMTExOHXqFE6fPo2EhAQAQK5cuVC9enWMHj0aderUQZ06dWBtba3HNUNk/LQy2J0AXHvldhyAz3LiiQoUcIOLyyacOtXs5XB/lZlZbri4bEaBAvWz9Ph37959eYKM113Q421bR29b3tzcHFZWVnj8+DHs7Oyy1EamKU+ePGjatCmaNm0KAHj69CmOHDmCkydP4uTJkzh16hRCQ0Px6NGj//xs9eo2GDcOeDF7X/eH8NOnwKBBe3DiRNF//Ox7770HFxcXdO3aFS4uLqhUqRIqV64MS0vLnPlFiQiAdgb766bdf6acEKIngJ4A4ODggKioqH98P1++fHj8+PE7n8zCoipKlFiM2NjOkPLpK49vgxIlFsPCwjVDj/M6KSkpSEpKwuPHj1GgQAH8+eefLx/r8uXLKFiw4Bsf+13LP3v2DM+fP39n29OnT/+zbuhvCQkJXDfpypYti7Jly6Jdu3aQUiIhIQG3bt3C7du3cevWLTx69AgJCQn45Ze/0KrVYVhZ/fctdc+fm2P79jqoUqUE3NzywcHBAQ4ODnj//fdha2v7j2UTExPx66+/6uvX0zT+O8w+rsM308pgjwNQ7JXbRQH8798LSSnnA5gPAFWrVpX169f/x/fPnTuX4a3ZJ0+SIYQFpDSDmZk10tKeQQgLWFomZ2uL2M7ODmlpabC0tET9+vXRs2dP3L17F05OTvjll18QFhb28vEbNmyIpUuXwsnJCQDeunx8fDwKFSqE9957750NNjY2qFy5cpZ/B2MWFRWFf/+7oXe7e3cTzp5ti7S0//9D2MzMBpUrr4K7ezOFZYaJ/w6zj+vwzbRyVPwhAKWFECXE3y/itQewISef8ObNRUhLS4StbSVUqLAetraVkJaWqJOj4z08PBAdHQ0LCwv89NNPaNy4McqWLYuvvvoK5cuXB/D3AUWXLl36x6B+2/KRkZHw8PDIdhtRVqSkPMDf2wFmAKzTP1uk309EWqKJLXYpZYoQoh+A7QDMAQRLKc/k5HOam+fDhx9OQ9GigyCEGQoUaIBr12bi4cP92X7sfv36YcaMGWjUqBGaNGmCJk2a/GeZs2fPonXr1siVK9c/7n/T8mFhYRg9OmsH9BFl16t/CCckdICtbRgSEk5k6uh4ItIPTQx2AJBSbgGwRV/P5+Ky7h+3hTBH8eJDAQzN9mNXrlwZbm5uSE1NfeN7cCtUqIAZM2Zk6PGSk5Ph6emJ0qVLZ7uNKCte/UN47959cHUdrLM/hIlItzQz2I2Nr6+vzh7LysoKnTp1yvIBfUTZlZN/CBORbmnlNXYiIiLSAQ52IiIiI2J0g/11J3kxJab++xMRmTqjGuw2NjaIj4832eEmpUR8fDxsbGxUpxARkSJGdfBc0aJFERcXhzt37qhOyRFPnz5959C2sbFB0aJF37oMEREZL6Ma7JaWlihRooTqjBwTFRXFM8oREdFbGdWueCIiIlPHwU5ERGREONiJiIiMiDDUI8iFEHcAXFXdoWeFANxVHWHguA6zj+sw+7gOs88U1+EHUsr337WQwQ52UySEOCylrKq6w5BxHWYf12H2cR1mH9fhm3FXPBERkRHhYCciIjIiHOyGZb7qACPAdZh9XIfZx3WYfVyHb8DX2ImIiIwIt9iJiIiMCAe7ARJC+AshpBCikOoWQySEmCaEOC+EOCmE+EUIkV91kyEQQnwuhLgghLgkhBihuscQCSGKCSEihRDnhBBnhBADVTcZKiGEuRDimBBik+oWreFgNzBCiGIA3MPes8EAAALpSURBVAH8pbrFgO0EUEFKWRHARQCBins0TwhhDmA2gC8AlAPgJYQop7bKIKUAGCqlLAugOoC+XI9ZNhDAOdURWsTBbni+BzAMAA+OyCIp5Q4pZUr6zT8A8HJ471YNwCUpZayUMhlABIAWipsMjpTyhpTyaPrXj/H3YHJSW2V4hBBFATQFsFB1ixZxsBsQIURzANellCdUtxgRXwBbVUcYACcA1165HQcOpGwRQjgDqAzggNoSgzQTf2/gpKkO0SKjumyrMRBC7ALg+JpvjQIwEoCHfosM09vWo5Ryffoyo/D3rtHl+mwzUOI193GvURYJIWwBrAEwSEr5SHWPIRFCNANwW0p5RAhRX3WPFnGwa4yUstHr7hdCuAAoAeCEEAL4e/fxUSFENSnlTT0mGoQ3rccXhBCdATQD0FDyPZ8ZEQeg2Cu3iwL4n6IWgyaEsMTfQ325lHKt6h4DVAtAcyFEEwA2APIKIUKllD6KuzSD72M3UEKIKwCqSilN7SII2SaE+BzADAD1pJR3VPcYAiGEBf4+0LAhgOsADgHoIKU8ozTMwIi//ypfAuCelHKQ6h5Dl77F7i+lbKa6RUv4GjuZop8A2AHYKYQ4LoT4WXWQ1qUfbNgPwHb8fcDXSg71LKkFoCOABun/9o6nb3kS6Qy32ImIiIwIt9iJiIiMCAc7ERGREeFgJyIiMiIc7EREREaEg52IiMiIcLATEREZEQ52IiIiI8LBTkQZkn4dcff0rycKIX5U3URE/8VzxRNRRn0NYIIQwh5/X5WsueIeInoNnnnu/9q7YxuEoRiKos8tYoFsQ0fJMCyAxD7swBRMQpEqFKQNpEtknTOBuyv/XxhYraqeSY5JTvM9cWBnPMUDq8wXBocko6jDfgk78FdVDfnerb8keVfVeeORgAXCDvxUVYckjyTXaZpeSe5JbpsOBSzyxw4AjdjYAaARYQeARoQdABoRdgBoRNgBoBFhB4BGhB0AGhF2AGjkAyIFy9MgI+25AAAAAElFTkSuQmCC\n",
      "text/plain": [
       "<Figure size 576x432 with 1 Axes>"
      ]
     },
     "metadata": {},
     "output_type": "display_data"
    }
   ],
   "source": [
    "# graficar\n",
    "# Crear ventana de graficos y damos medidas de la ventana\n",
    "plt.figure(figsize=(8,6))\n",
    "# Sirve para hacer el grafico y determinar sus caracteristicas\n",
    "plt.plot(xnum, ynum, 'k', label='$y=x^2$')\n",
    "plt.plot([0], [0], '*y', ms=10, label='$(0,0)$')\n",
    "# Nombre del eje x de la grafica\n",
    "plt.xlabel('$x$')\n",
    "# Nombre del eje y\n",
    "plt.ylabel('$f(x)=x^2$')\n",
    "# Sirve para poner las etiquetas de las graficas\n",
    "plt.legend(loc='best')\n",
    "# Sirve para poner la cuadricula\n",
    "plt.grid()"
=======
=======
>>>>>>> b15895a... Clase4
    "f_num = sym.lambdify([x], f, 'numpy')\n",
    "x_vec = np.linspace(-5, 5, 100)\n",
    "\n",
    "# graficar\n",
    "plt.plot(x_vec, f_num(x_vec))\n",
    "plt.xlabel('$x$')\n",
    "plt.ylabel('$x^2$')\n",
    "plt.show()"
<<<<<<< HEAD
>>>>>>> parent of 512dd5d... FinClase4
=======
>>>>>>> b15895a... Clase4
   ]
  },
  {
   "cell_type": "markdown",
   "metadata": {},
   "source": [
    "Ver diferencias entre f y f_num"
   ]
  },
  {
   "cell_type": "code",
<<<<<<< HEAD
<<<<<<< HEAD
   "execution_count": 30,
   "metadata": {},
   "outputs": [
    {
     "data": {
      "text/plain": [
       "array([ 0.        ,  2.77777778, 11.11111111, 25.        ])"
      ]
     },
     "execution_count": 30,
     "metadata": {},
     "output_type": "execute_result"
    }
   ],
=======
=======
>>>>>>> b15895a... Clase4
   "execution_count": null,
   "metadata": {
    "collapsed": true
   },
   "outputs": [],
<<<<<<< HEAD
>>>>>>> parent of 512dd5d... FinClase4
   "source": [
    "# intentar evaluar f y f_num\n",
    "fnum(np.linspace(0, 5, 4))"
=======
   "source": [
    "# intentar evaluar f y f_num\n"
>>>>>>> b15895a... Clase4
   ]
  },
  {
   "cell_type": "markdown",
   "metadata": {},
   "source": [
    "**Otra manera de hacer lo anterior**\n",
    "\n",
    "Concepto de función..."
   ]
  },
  {
   "cell_type": "code",
<<<<<<< HEAD
<<<<<<< HEAD
   "execution_count": 31,
   "metadata": {},
   "outputs": [],
   "source": [
    "def funcion_de_clase(x):\n",
    "    return x**2"
   ]
  },
  {
   "cell_type": "code",
   "execution_count": 32,
   "metadata": {},
   "outputs": [
    {
     "data": {
      "text/latex": [
       "$$x$$"
      ],
      "text/plain": [
       "x"
      ]
     },
     "execution_count": 32,
     "metadata": {},
     "output_type": "execute_result"
    }
   ],
   "source": [
    "x"
   ]
  },
  {
   "cell_type": "code",
   "execution_count": 33,
=======
=======
>>>>>>> b15895a... Clase4
   "execution_count": 12,
   "metadata": {
    "collapsed": true
   },
   "outputs": [],
   "source": [
    "def f(x):\n",
    "    return x**2"
   ]
  },
  {
   "cell_type": "code",
   "execution_count": 13,
<<<<<<< HEAD
>>>>>>> parent of 512dd5d... FinClase4
=======
>>>>>>> b15895a... Clase4
   "metadata": {},
   "outputs": [
    {
     "data": {
      "text/latex": [
       "$$x^{2}$$"
      ],
      "text/plain": [
       " 2\n",
       "x "
      ]
     },
<<<<<<< HEAD
<<<<<<< HEAD
     "execution_count": 33,
=======
     "execution_count": 13,
>>>>>>> parent of 512dd5d... FinClase4
=======
     "execution_count": 13,
>>>>>>> b15895a... Clase4
     "metadata": {},
     "output_type": "execute_result"
    }
   ],
   "source": [
<<<<<<< HEAD
<<<<<<< HEAD
    "funcion_de_clase(x)"
=======
    "f(x)"
>>>>>>> parent of 512dd5d... FinClase4
=======
    "f(x)"
>>>>>>> b15895a... Clase4
   ]
  },
  {
   "cell_type": "code",
<<<<<<< HEAD
<<<<<<< HEAD
   "execution_count": 42,
=======
   "execution_count": 16,
>>>>>>> parent of 512dd5d... FinClase4
=======
   "execution_count": 16,
>>>>>>> b15895a... Clase4
   "metadata": {},
   "outputs": [
    {
     "data": {
<<<<<<< HEAD
<<<<<<< HEAD
      "text/latex": [
       "$$2 x$$"
      ],
      "text/plain": [
       "2⋅x"
      ]
     },
     "execution_count": 42,
=======
=======
>>>>>>> b15895a... Clase4
      "text/plain": [
       "array([ 26.255376  ,   6.46990096])"
      ]
     },
     "execution_count": 16,
<<<<<<< HEAD
>>>>>>> parent of 512dd5d... FinClase4
=======
>>>>>>> b15895a... Clase4
     "metadata": {},
     "output_type": "execute_result"
    }
   ],
   "source": [
<<<<<<< HEAD
<<<<<<< HEAD
    "df = sym.diff(funcion_de_clase(x), x)\n",
    "df"
=======
    "f(np.array([5.124, 2.5436]))"
>>>>>>> parent of 512dd5d... FinClase4
=======
    "f(np.array([5.124, 2.5436]))"
>>>>>>> b15895a... Clase4
   ]
  },
  {
   "cell_type": "code",
<<<<<<< HEAD
<<<<<<< HEAD
   "execution_count": 44,
=======
   "execution_count": 51,
>>>>>>> parent of 512dd5d... FinClase4
=======
   "execution_count": 51,
>>>>>>> b15895a... Clase4
   "metadata": {},
   "outputs": [
    {
     "data": {
      "text/latex": [
<<<<<<< HEAD
<<<<<<< HEAD
       "$$\\left [ 0\\right ]$$"
      ],
      "text/plain": [
       "[0]"
      ]
     },
     "execution_count": 44,
=======
=======
>>>>>>> b15895a... Clase4
       "$$2 x$$"
      ],
      "text/plain": [
       "2⋅x"
      ]
     },
     "execution_count": 51,
<<<<<<< HEAD
>>>>>>> parent of 512dd5d... FinClase4
=======
>>>>>>> b15895a... Clase4
     "metadata": {},
     "output_type": "execute_result"
    }
   ],
   "source": [
<<<<<<< HEAD
<<<<<<< HEAD
    "xc = sym.solve(df, x)\n",
    "xc"
=======
    "df = sym.diff(f(x), x)\n",
    "df"
>>>>>>> parent of 512dd5d... FinClase4
=======
    "df = sym.diff(f(x), x)\n",
    "df"
>>>>>>> b15895a... Clase4
   ]
  },
  {
   "cell_type": "code",
<<<<<<< HEAD
<<<<<<< HEAD
   "execution_count": 46,
=======
   "execution_count": 52,
>>>>>>> parent of 512dd5d... FinClase4
=======
   "execution_count": 52,
>>>>>>> b15895a... Clase4
   "metadata": {},
   "outputs": [
    {
     "data": {
<<<<<<< HEAD
<<<<<<< HEAD
      "image/png": "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\n",
      "text/plain": [
       "<Figure size 576x432 with 1 Axes>"
      ]
     },
     "metadata": {},
     "output_type": "display_data"
    }
   ],
   "source": [
    "# graficar\n",
    "# Crear ventana de graficos y damos medidas de la ventana\n",
    "plt.figure(figsize=(8,6))\n",
    "# Sirve para hacer el grafico y determinar sus caracteristicas\n",
    "#plt.plot(xnum, funcion_de_clase(xnum), 'k', label='$y=x^2$')\n",
    "plt.plot(xnum, xnum**2, 'k', label='$y=x^2$')\n",
    "plt.plot([0], [0], '*y', ms=10, label='$(0,0)$')\n",
    "# Nombre del eje x de la grafica\n",
    "plt.xlabel('$x$')\n",
    "# Nombre del eje y\n",
    "plt.ylabel('$f(x)=x^2$')\n",
    "# Sirve para poner las etiquetas de las graficas\n",
    "plt.legend(loc='best')\n",
    "# Sirve para poner la cuadricula\n",
    "plt.grid()"
=======
=======
>>>>>>> b15895a... Clase4
      "text/latex": [
       "$$0$$"
      ],
      "text/plain": [
       "0"
      ]
     },
     "execution_count": 52,
     "metadata": {},
     "output_type": "execute_result"
    }
   ],
   "source": [
    "x_c = sym.solve(df, x)\n",
    "x_c[0]"
<<<<<<< HEAD
>>>>>>> parent of 512dd5d... FinClase4
=======
>>>>>>> b15895a... Clase4
   ]
  },
  {
   "cell_type": "code",
<<<<<<< HEAD
<<<<<<< HEAD
   "execution_count": 49,
=======
   "execution_count": 53,
>>>>>>> parent of 512dd5d... FinClase4
=======
   "execution_count": 53,
>>>>>>> b15895a... Clase4
   "metadata": {},
   "outputs": [
    {
     "data": {
<<<<<<< HEAD
<<<<<<< HEAD
      "text/plain": [
       "array([[4, 1],\n",
       "       [1, 0]])"
      ]
     },
     "execution_count": 49,
     "metadata": {},
     "output_type": "execute_result"
    }
   ],
   "source": [
    "A = np.array([[1, 2],\n",
    "              [0, 1]])\n",
    "B = np.array([[2, 1],\n",
    "              [1, 0]])\n",
    "A.dot(B)"
=======
=======
>>>>>>> b15895a... Clase4
      "image/png": "iVBORw0KGgoAAAANSUhEUgAAAYYAAAEKCAYAAAAW8vJGAAAABHNCSVQICAgIfAhkiAAAAAlwSFlz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\n",
      "text/plain": [
       "<matplotlib.figure.Figure at 0x984cfd0>"
      ]
     },
     "metadata": {},
     "output_type": "display_data"
    }
   ],
   "source": [
    "# graficar\n",
    "plt.plot(x_vec, f(x_vec))\n",
    "plt.xlabel('$x$')\n",
    "plt.ylabel('$x^2$')\n",
    "plt.show()"
<<<<<<< HEAD
>>>>>>> parent of 512dd5d... FinClase4
=======
>>>>>>> b15895a... Clase4
   ]
  },
  {
   "cell_type": "markdown",
   "metadata": {},
   "source": [
    "El converso del teorema anterior no es cierto.\n",
    "\n",
    "### Actividad\n",
    "Considere $g(x)=x^3$. \n",
    "- Usando `sympy`, muestre que $g'(0)=0$.\n",
    "- Sin embargo, descartar que $x=0$ es un extremo de $g(x)$ viendo su **gráfica**."
   ]
  },
  {
   "cell_type": "code",
<<<<<<< HEAD
<<<<<<< HEAD
   "execution_count": 50,
   "metadata": {},
   "outputs": [
    {
     "data": {
      "text/latex": [
       "$$x$$"
      ],
      "text/plain": [
       "x"
      ]
     },
     "execution_count": 50,
     "metadata": {},
     "output_type": "execute_result"
    }
   ],
   "source": [
    "# Declarar la variable simbolica x\n",
    "sym.var('x')"
=======
=======
>>>>>>> b15895a... Clase4
   "execution_count": 21,
   "metadata": {
    "collapsed": true
   },
   "outputs": [],
   "source": [
    "def g(x):\n",
    "    return x**3"
<<<<<<< HEAD
>>>>>>> parent of 512dd5d... FinClase4
=======
>>>>>>> b15895a... Clase4
   ]
  },
  {
   "cell_type": "code",
<<<<<<< HEAD
<<<<<<< HEAD
   "execution_count": 51,
   "metadata": {},
   "outputs": [],
   "source": [
    "# Definimos funcion g(x)\n",
    "def g(x):\n",
    "    return x**3"
=======
=======
>>>>>>> b15895a... Clase4
   "execution_count": 22,
   "metadata": {},
   "outputs": [
    {
     "data": {
      "text/latex": [
       "$$3 x^{2}$$"
      ],
      "text/plain": [
       "   2\n",
       "3⋅x "
      ]
     },
     "execution_count": 22,
     "metadata": {},
     "output_type": "execute_result"
    }
   ],
   "source": [
    "dg = sym.diff(g(x), x)\n",
    "dg"
<<<<<<< HEAD
>>>>>>> parent of 512dd5d... FinClase4
=======
>>>>>>> b15895a... Clase4
   ]
  },
  {
   "cell_type": "code",
<<<<<<< HEAD
<<<<<<< HEAD
   "execution_count": 52,
=======
   "execution_count": 24,
>>>>>>> parent of 512dd5d... FinClase4
=======
   "execution_count": 24,
>>>>>>> b15895a... Clase4
   "metadata": {},
   "outputs": [
    {
     "data": {
      "text/latex": [
<<<<<<< HEAD
<<<<<<< HEAD
       "$$3 x^{2}$$"
      ],
      "text/plain": [
       "   2\n",
       "3⋅x "
      ]
     },
     "execution_count": 52,
=======
=======
>>>>>>> b15895a... Clase4
       "$$\\left [ 0\\right ]$$"
      ],
      "text/plain": [
       "[0]"
      ]
     },
     "execution_count": 24,
<<<<<<< HEAD
>>>>>>> parent of 512dd5d... FinClase4
=======
>>>>>>> b15895a... Clase4
     "metadata": {},
     "output_type": "execute_result"
    }
   ],
   "source": [
<<<<<<< HEAD
<<<<<<< HEAD
    "# Derivamos g(x)\n",
    "dg = sym.diff(g(x), x)\n",
    "dg"
=======
    "puntos_criticos = sym.solve(dg, x)\n",
    "puntos_criticos"
>>>>>>> parent of 512dd5d... FinClase4
=======
    "puntos_criticos = sym.solve(dg, x)\n",
    "puntos_criticos"
>>>>>>> b15895a... Clase4
   ]
  },
  {
   "cell_type": "code",
<<<<<<< HEAD
<<<<<<< HEAD
   "execution_count": 53,
=======
   "execution_count": 25,
>>>>>>> parent of 512dd5d... FinClase4
=======
   "execution_count": 25,
>>>>>>> b15895a... Clase4
   "metadata": {},
   "outputs": [
    {
     "data": {
      "text/latex": [
<<<<<<< HEAD
<<<<<<< HEAD
       "$$\\left [ 0\\right ]$$"
      ],
      "text/plain": [
       "[0]"
      ]
     },
     "execution_count": 53,
=======
=======
>>>>>>> b15895a... Clase4
       "$$0$$"
      ],
      "text/plain": [
       "0"
      ]
     },
     "execution_count": 25,
<<<<<<< HEAD
>>>>>>> parent of 512dd5d... FinClase4
=======
>>>>>>> b15895a... Clase4
     "metadata": {},
     "output_type": "execute_result"
    }
   ],
   "source": [
<<<<<<< HEAD
<<<<<<< HEAD
    "# Puntos criticos\n",
    "xc = sym.solve(dg, x)\n",
    "xc"
=======
    "dg_eval0 = dg.subs(x, puntos_criticos[0])\n",
    "dg_eval0"
>>>>>>> parent of 512dd5d... FinClase4
=======
    "dg_eval0 = dg.subs(x, puntos_criticos[0])\n",
    "dg_eval0"
>>>>>>> b15895a... Clase4
   ]
  },
  {
   "cell_type": "code",
<<<<<<< HEAD
<<<<<<< HEAD
   "execution_count": 54,
=======
   "execution_count": 26,
>>>>>>> parent of 512dd5d... FinClase4
=======
   "execution_count": 26,
>>>>>>> b15895a... Clase4
   "metadata": {},
   "outputs": [
    {
     "data": {
<<<<<<< HEAD
<<<<<<< HEAD
      "image/png": "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\n",
      "text/plain": [
       "<Figure size 576x432 with 1 Axes>"
=======
      "image/png": "iVBORw0KGgoAAAANSUhEUgAAAZQAAAEKCAYAAAA1qaOTAAAABHNCSVQICAgIfAhkiAAAAAlwSFlz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\n",
      "text/plain": [
       "<matplotlib.figure.Figure at 0xad347f0>"
>>>>>>> parent of 512dd5d... FinClase4
=======
      "image/png": "iVBORw0KGgoAAAANSUhEUgAAAZQAAAEKCAYAAAA1qaOTAAAABHNCSVQICAgIfAhkiAAAAAlwSFlz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\n",
      "text/plain": [
       "<matplotlib.figure.Figure at 0xad347f0>"
>>>>>>> b15895a... Clase4
      ]
     },
     "metadata": {},
     "output_type": "display_data"
    }
   ],
   "source": [
    "# graficar\n",
<<<<<<< HEAD
<<<<<<< HEAD
    "# Crear ventana de graficos y damos medidas de la ventana\n",
    "plt.figure(figsize=(8,6))\n",
    "# Sirve para hacer el grafico y determinar sus caracteristicas\n",
    "plt.plot(xnum, g(xnum), 'k', label='$y=x^3$')\n",
    "plt.plot([0], [0], '*y', ms=10, label='$(0,0)$')\n",
    "# Nombre del eje x de la grafica\n",
    "plt.xlabel('$x$')\n",
    "# Nombre del eje y\n",
    "plt.ylabel('$y$')\n",
    "# Sirve para poner las etiquetas de las graficas\n",
    "plt.legend(loc='best')\n",
    "# Sirve para poner la cuadricula\n",
    "plt.grid()"
=======
=======
>>>>>>> b15895a... Clase4
    "plt.plot(x_vec, g(x_vec))\n",
    "plt.xlabel('$x$')\n",
    "plt.ylabel('$x^3$')\n",
    "plt.show()"
<<<<<<< HEAD
>>>>>>> parent of 512dd5d... FinClase4
=======
>>>>>>> b15895a... Clase4
   ]
  },
  {
   "cell_type": "markdown",
   "metadata": {},
   "source": [
    "## 2. Criterio de la segunda derivada\n",
    "\n",
    "Sea $f(x)$ una función tal que $f’(c)=0$ y cuya segunda derivada existe en un intervalo abierto que contiene a $c$.\n",
    "- Si $f’’(c)>0$, entonces $f(c)$ es un mínimo relativo.\n",
    "- Si $f’’(c)<0$, entonces $f(c)$ es un máximo relativo.\n",
    "- Si $f’’(c)=0$, entonces el criterio no decide. "
   ]
  },
  {
   "cell_type": "markdown",
   "metadata": {},
   "source": [
    "### Ejemplo\n",
    "\n",
    "Mostrar, usando `sympy`, que la función $f(x)=x^2$ tiene un mínimo relativo en $x=0$.\n",
    "\n",
    "Ya vimos que $f'(0)=0$. Notemos que:"
   ]
  },
  {
   "cell_type": "code",
<<<<<<< HEAD
<<<<<<< HEAD
   "execution_count": 55,
   "metadata": {},
   "outputs": [],
   "source": [
    "def f(x):\n",
    "    return x**2"
   ]
  },
  {
   "cell_type": "code",
   "execution_count": 57,
   "metadata": {},
=======
   "execution_count": 27,
   "metadata": {},
>>>>>>> parent of 512dd5d... FinClase4
=======
   "execution_count": 27,
   "metadata": {},
>>>>>>> b15895a... Clase4
   "outputs": [
    {
     "data": {
      "text/latex": [
       "$$2$$"
      ],
      "text/plain": [
       "2"
      ]
     },
<<<<<<< HEAD
<<<<<<< HEAD
     "execution_count": 57,
=======
     "execution_count": 27,
>>>>>>> parent of 512dd5d... FinClase4
=======
     "execution_count": 27,
>>>>>>> b15895a... Clase4
     "metadata": {},
     "output_type": "execute_result"
    }
   ],
   "source": [
<<<<<<< HEAD
<<<<<<< HEAD
    "# Sacamos la segunda derivada\n",
    "#d2f = sym.diff(f(x), x, x)\n",
    "d2f = sym.diff(f(x), x, 2)\n",
=======
    "f = x**2\n",
    "#d2f = sym.diff(f, x, x)\n",
    "d2f = sym.diff(f, x, 2)\n",
>>>>>>> parent of 512dd5d... FinClase4
=======
    "f = x**2\n",
    "#d2f = sym.diff(f, x, x)\n",
    "d2f = sym.diff(f, x, 2)\n",
>>>>>>> b15895a... Clase4
    "d2f"
   ]
  },
  {
   "cell_type": "code",
<<<<<<< HEAD
<<<<<<< HEAD
   "execution_count": 58,
=======
   "execution_count": 28,
>>>>>>> parent of 512dd5d... FinClase4
=======
   "execution_count": 28,
>>>>>>> b15895a... Clase4
   "metadata": {},
   "outputs": [
    {
     "data": {
      "text/latex": [
       "$$\\mathrm{True}$$"
      ],
      "text/plain": [
       "True"
      ]
     },
<<<<<<< HEAD
<<<<<<< HEAD
     "execution_count": 58,
=======
     "execution_count": 28,
>>>>>>> parent of 512dd5d... FinClase4
=======
     "execution_count": 28,
>>>>>>> b15895a... Clase4
     "metadata": {},
     "output_type": "execute_result"
    }
   ],
   "source": [
    "d2f>0"
   ]
  },
  {
   "cell_type": "markdown",
   "metadata": {},
   "source": [
    "Por tanto, por el criterio de la segunda derivada, $f(0)=0$ es un mínimo relativo (en efecto, el mínimo global)."
   ]
  },
  {
   "cell_type": "markdown",
   "metadata": {},
   "source": [
    "### Ejemplo\n",
    "¿Qué pasa con $g(x)=x^3$ al intentar utilizar el criterio de la segunda derivada? (usar `sympy`)."
   ]
  },
  {
   "cell_type": "code",
<<<<<<< HEAD
<<<<<<< HEAD
   "execution_count": 59,
=======
   "execution_count": 29,
>>>>>>> parent of 512dd5d... FinClase4
=======
   "execution_count": 29,
>>>>>>> b15895a... Clase4
   "metadata": {},
   "outputs": [
    {
     "data": {
      "text/latex": [
       "$$x^{3}$$"
      ],
      "text/plain": [
       " 3\n",
       "x "
      ]
     },
<<<<<<< HEAD
<<<<<<< HEAD
     "execution_count": 59,
=======
     "execution_count": 29,
>>>>>>> parent of 512dd5d... FinClase4
=======
     "execution_count": 29,
>>>>>>> b15895a... Clase4
     "metadata": {},
     "output_type": "execute_result"
    }
   ],
   "source": [
    "g(x)"
   ]
  },
  {
   "cell_type": "code",
<<<<<<< HEAD
<<<<<<< HEAD
   "execution_count": 60,
=======
   "execution_count": 31,
>>>>>>> parent of 512dd5d... FinClase4
=======
   "execution_count": 31,
>>>>>>> b15895a... Clase4
   "metadata": {},
   "outputs": [
    {
     "data": {
      "text/latex": [
       "$$6 x$$"
      ],
      "text/plain": [
       "6⋅x"
      ]
     },
<<<<<<< HEAD
<<<<<<< HEAD
     "execution_count": 60,
=======
     "execution_count": 31,
>>>>>>> parent of 512dd5d... FinClase4
=======
     "execution_count": 31,
>>>>>>> b15895a... Clase4
     "metadata": {},
     "output_type": "execute_result"
    }
   ],
   "source": [
<<<<<<< HEAD
<<<<<<< HEAD
    "d2g = sym.diff(g(x), x, 2)\n",
=======
    "d2g = sym.diff(g(x), x, x)\n",
>>>>>>> parent of 512dd5d... FinClase4
=======
    "d2g = sym.diff(g(x), x, x)\n",
>>>>>>> b15895a... Clase4
    "d2g"
   ]
  },
  {
   "cell_type": "code",
<<<<<<< HEAD
<<<<<<< HEAD
   "execution_count": 71,
=======
   "execution_count": 32,
>>>>>>> parent of 512dd5d... FinClase4
=======
   "execution_count": 32,
>>>>>>> b15895a... Clase4
   "metadata": {},
   "outputs": [
    {
     "data": {
      "text/latex": [
       "$$0$$"
      ],
      "text/plain": [
       "0"
      ]
     },
<<<<<<< HEAD
<<<<<<< HEAD
     "execution_count": 71,
=======
     "execution_count": 32,
>>>>>>> parent of 512dd5d... FinClase4
=======
     "execution_count": 32,
>>>>>>> b15895a... Clase4
     "metadata": {},
     "output_type": "execute_result"
    }
   ],
   "source": [
    "d2g.subs(x, 0)"
   ]
<<<<<<< HEAD
<<<<<<< HEAD
  },
  {
   "cell_type": "markdown",
   "metadata": {},
   "source": [
    "Como $g''(0)=0$ entonces el criterio de la segunda derivada no concluye."
   ]
=======
>>>>>>> parent of 512dd5d... FinClase4
=======
>>>>>>> b15895a... Clase4
  },
  {
   "cell_type": "markdown",
   "metadata": {},
   "source": [
    "### Actividad\n",
    "\n",
    "¿Qué pasa con $h(x)=x^4$ al intentar utilizar el criterio de la segunda derivada?."
   ]
  },
  {
   "cell_type": "code",
   "execution_count": 33,
   "metadata": {
    "collapsed": true
   },
   "outputs": [],
   "source": [
    "def h(x):\n",
    "    return x**4"
   ]
  },
  {
   "cell_type": "code",
   "execution_count": 35,
   "metadata": {},
   "outputs": [
    {
     "data": {
      "text/latex": [
       "$$4 x^{3}$$"
      ],
      "text/plain": [
       "   3\n",
       "4⋅x "
      ]
     },
     "execution_count": 35,
     "metadata": {},
     "output_type": "execute_result"
    }
   ],
   "source": [
    "dh = sym.diff(h(x), x, 1)\n",
    "dh"
   ]
  },
  {
   "cell_type": "code",
   "execution_count": 37,
   "metadata": {},
   "outputs": [
    {
     "data": {
      "text/latex": [
       "$$\\left [ 0\\right ]$$"
      ],
      "text/plain": [
       "[0]"
      ]
     },
     "execution_count": 37,
     "metadata": {},
     "output_type": "execute_result"
    }
   ],
   "source": [
    "p_c_h = sym.solve(dh, x)\n",
    "p_c_h"
   ]
  },
  {
   "cell_type": "code",
   "execution_count": 38,
   "metadata": {},
   "outputs": [
    {
     "data": {
      "text/latex": [
       "$$12 x^{2}$$"
      ],
      "text/plain": [
       "    2\n",
       "12⋅x "
      ]
     },
     "execution_count": 38,
     "metadata": {},
     "output_type": "execute_result"
    }
   ],
   "source": [
    "d2h = sym.diff(h(x), x, 2)\n",
    "d2h"
   ]
  },
  {
   "cell_type": "code",
   "execution_count": 39,
   "metadata": {},
   "outputs": [
    {
     "data": {
      "text/latex": [
       "$$0$$"
      ],
      "text/plain": [
       "0"
      ]
     },
     "execution_count": 39,
     "metadata": {},
     "output_type": "execute_result"
    }
   ],
   "source": [
    "d2h.subs(x, p_c_h[0])"
   ]
  },
  {
   "cell_type": "markdown",
   "metadata": {},
   "source": [
    "Como la segunda derivada en el punto crítico es cero, el criterio de la segunda derivada no decide."
   ]
  },
  {
   "cell_type": "markdown",
   "metadata": {},
   "source": [
    "## 3. Método para determinar extremos absolutos de una función continua y=f(x) en [a,b] \n",
    "\n",
    "- Determinar todos los valores críticos $c_1, c_2, c_3, \\dots, c_n$ en $(a,b)$.\n",
    "- Evaluar $f$ en todos los valores críticos y en los extremos $x=a$ y $x=b$.\n",
    "- El más grande y el más pequeño de los valores de la lista $f(a), f(b), f(c_1), f(c_2), \\dots, f(c_n)$ son el máximo absoluto y el mínimo absoluto, respectivamente, de f en el intervalo [a,b]."
   ]
  },
  {
   "cell_type": "markdown",
   "metadata": {
    "collapsed": true
   },
   "source": [
    "### Ejemplo\n",
    "\n",
    "Determinar los extremos absolutos de $f(x)=x^2-6x$ en $\\left[0,5\\right]$.\n",
    "\n",
    "Obtenemos los puntos críticos de $f$ en $\\left[0,5\\right]$:"
   ]
  },
  {
   "cell_type": "code",
<<<<<<< HEAD
<<<<<<< HEAD
   "execution_count": 72,
   "metadata": {},
   "outputs": [],
   "source": [
    "def f(x):\n",
    "    return x**2-6*x"
=======
=======
>>>>>>> b15895a... Clase4
   "execution_count": 40,
   "metadata": {},
   "outputs": [
    {
     "data": {
      "text/latex": [
       "$$x^{2} - 6 x$$"
      ],
      "text/plain": [
       " 2      \n",
       "x  - 6⋅x"
      ]
     },
     "execution_count": 40,
     "metadata": {},
     "output_type": "execute_result"
    }
   ],
   "source": [
    "f = x**2-6*x\n",
    "f"
<<<<<<< HEAD
>>>>>>> parent of 512dd5d... FinClase4
=======
>>>>>>> b15895a... Clase4
   ]
  },
  {
   "cell_type": "code",
<<<<<<< HEAD
<<<<<<< HEAD
   "execution_count": 74,
=======
   "execution_count": 41,
>>>>>>> parent of 512dd5d... FinClase4
=======
   "execution_count": 41,
>>>>>>> b15895a... Clase4
   "metadata": {},
   "outputs": [
    {
     "data": {
      "text/latex": [
       "$$2 x - 6$$"
      ],
      "text/plain": [
       "2⋅x - 6"
      ]
     },
<<<<<<< HEAD
<<<<<<< HEAD
     "execution_count": 74,
=======
     "execution_count": 41,
>>>>>>> parent of 512dd5d... FinClase4
=======
     "execution_count": 41,
>>>>>>> b15895a... Clase4
     "metadata": {},
     "output_type": "execute_result"
    }
   ],
   "source": [
<<<<<<< HEAD
<<<<<<< HEAD
    "# Derivamos f\n",
    "df = sym.diff(f(x), x)\n",
=======
    "df = sym.diff(f, x)\n",
>>>>>>> parent of 512dd5d... FinClase4
=======
    "df = sym.diff(f, x)\n",
>>>>>>> b15895a... Clase4
    "df"
   ]
  },
  {
   "cell_type": "code",
<<<<<<< HEAD
<<<<<<< HEAD
   "execution_count": 75,
=======
   "execution_count": 42,
>>>>>>> parent of 512dd5d... FinClase4
=======
   "execution_count": 42,
>>>>>>> b15895a... Clase4
   "metadata": {},
   "outputs": [
    {
     "data": {
      "text/latex": [
       "$$\\left [ 3\\right ]$$"
      ],
      "text/plain": [
       "[3]"
      ]
     },
<<<<<<< HEAD
<<<<<<< HEAD
     "execution_count": 75,
=======
     "execution_count": 42,
>>>>>>> parent of 512dd5d... FinClase4
=======
     "execution_count": 42,
>>>>>>> b15895a... Clase4
     "metadata": {},
     "output_type": "execute_result"
    }
   ],
   "source": [
<<<<<<< HEAD
<<<<<<< HEAD
    "xc = sym.solve(df, x)\n",
    "xc"
=======
    "x_c = sym.solve(df, x)\n",
    "x_c"
>>>>>>> parent of 512dd5d... FinClase4
=======
    "x_c = sym.solve(df, x)\n",
    "x_c"
>>>>>>> b15895a... Clase4
   ]
  },
  {
   "cell_type": "markdown",
   "metadata": {},
   "source": [
    "Evaluamos $f$ en los extremos y en los puntos críticos:"
   ]
  },
  {
   "cell_type": "code",
<<<<<<< HEAD
<<<<<<< HEAD
   "execution_count": 76,
=======
   "execution_count": 43,
>>>>>>> parent of 512dd5d... FinClase4
=======
   "execution_count": 43,
>>>>>>> b15895a... Clase4
   "metadata": {},
   "outputs": [
    {
     "data": {
      "text/latex": [
<<<<<<< HEAD
<<<<<<< HEAD
       "$$\\left ( 0, \\quad -9, \\quad -5\\right )$$"
      ],
      "text/plain": [
       "(0, -9, -5)"
      ]
     },
     "execution_count": 76,
=======
=======
>>>>>>> b15895a... Clase4
       "$$\\left ( 0, \\quad -5, \\quad -9\\right )$$"
      ],
      "text/plain": [
       "(0, -5, -9)"
      ]
     },
     "execution_count": 43,
<<<<<<< HEAD
>>>>>>> parent of 512dd5d... FinClase4
=======
>>>>>>> b15895a... Clase4
     "metadata": {},
     "output_type": "execute_result"
    }
   ],
   "source": [
<<<<<<< HEAD
<<<<<<< HEAD
    "f(0), f(xc[0]), f(5)"
=======
    "f.subs(x, 0), f.subs(x, 5), f.subs(x, x_c[0])"
>>>>>>> parent of 512dd5d... FinClase4
=======
    "f.subs(x, 0), f.subs(x, 5), f.subs(x, x_c[0])"
>>>>>>> b15895a... Clase4
   ]
  },
  {
   "cell_type": "markdown",
   "metadata": {},
   "source": [
    "Concluimos que el máximo absoluto de $f$ en $\\left[0,5\\right]$ es $0$ y se alcanza en $x=0$, y que el mínimo absoluto es $-9$ y se alcanza en $x=3$."
   ]
  },
  {
   "cell_type": "code",
<<<<<<< HEAD
<<<<<<< HEAD
   "execution_count": 77,
=======
   "execution_count": 47,
>>>>>>> parent of 512dd5d... FinClase4
=======
   "execution_count": 47,
>>>>>>> b15895a... Clase4
   "metadata": {},
   "outputs": [
    {
     "data": {
<<<<<<< HEAD
<<<<<<< HEAD
      "image/png": "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\n",
      "text/plain": [
       "<Figure size 576x432 with 1 Axes>"
=======
      "image/png": "iVBORw0KGgoAAAANSUhEUgAAAeYAAAF3CAYAAABwqegpAAAABHNCSVQICAgIfAhkiAAAAAlwSFlz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\n",
      "text/plain": [
       "<matplotlib.figure.Figure at 0xb29ee80>"
>>>>>>> parent of 512dd5d... FinClase4
=======
      "image/png": "iVBORw0KGgoAAAANSUhEUgAAAeYAAAF3CAYAAABwqegpAAAABHNCSVQICAgIfAhkiAAAAAlwSFlz\nAAALEgAACxIB0t1+/AAAADl0RVh0U29mdHdhcmUAbWF0cGxvdGxpYiB2ZXJzaW9uIDIuMS4wLCBo\ndHRwOi8vbWF0cGxvdGxpYi5vcmcvpW3flQAAIABJREFUeJzt3Xd4jefjBvD7yckeZmiVEkqJSKzw\nMyqEiNFWiFlU1CZGlRrforVVhfKtaqu1WruotgjRSkkViZlFkQohMaJIRMZJnt8fIV8jSJyTPGfc\nn+s6F2/Oe973zitXbs87hZQSREREZBgsVAcgIiKi/2ExExERGRAWMxERkQFhMRMRERkQFjMREZEB\nYTETEREZEBYzERGRAWExExERGRAWMxERkQFhMRMRERkQSxUrdXZ2li4uLipWTUREVOyOHj16Q0pZ\nriDzKilmFxcXREREqFg1ERFRsRNCxBd0Xu7KJiIiMiAsZiIiIgPCYiYiIjIgSo4xExEZu6ysLCQk\nJCA9PV11FDIgtra2qFSpEqysrF54GSxmIqIXkJCQACcnJ7i4uEAIoToOGQApJZKTk5GQkICqVau+\n8HK4K5uI6AWkp6ejbNmyLGXKI4RA2bJldd6LwmImInpBLGV6nD5+JljMREREBoTFTEREZED0UsxC\niPZCiDNCiHNCiEn6WGaBJSYCLVsCSUnFuloiIlMzbtw41K5dG4MHD0bLli2RnZ391HkzMzPh5eUF\nrVZbjAnNg87FLITQAFgKoAOA2gDeEULU1nW5BTZzJhAWBsyYUWyrJCIyNXFxcfjzzz8RExODevXq\nwd/fHxqN5qnzW1tbo02bNti4cWMxpjQP+hgxNwZwTkoZJ6XMBLABgJ8elvtsdnaAEMCyZUBOTu6f\nQuR+nYjIDERGRqJ58+Z508eOHUPr1q0LvZwzZ86gZcuWiI+PR/369fHtt9/Cz+9/v8a9vb0REhIC\nAJgyZQpGjx4NAOjcuTPWrl2r43dBj9PHdcwVAVx6aDoBwP89PpMQYgiAIQBQuXJl3dcaFweMH4+c\nrVthkZ4OaWcH4e8PLFig+7KJiAqpVatWT3ytR48eGDFiBNLS0tCxY8cn3u/fvz/69++PGzduoFu3\nbo+8Fxoa+tx1urm54fz588jOzoZGo8G4ceMQFBT0yDwtWrRASkrKE59dsGABfHx8AAA1a9ZEQEAA\nXFxc0K9fP1SuXBkPPwFw+vTpmDZtGq5du4bjx4/j559/BgDUqVMH4eHhz81JhaOPYs7v3HD5xBek\n/AbANwDg6en5xPuFVqECUKIEREYG7gGwSU+HKFECePllnRdNRGQMLCws4ObmhujoaJw9exaVK1dG\ngwYNHpnnwIEDBVpWZGQk/Pz8cOPGDZQqVeqR97y8vCClxMKFCxEaGpq3i1uj0cDa2hopKSlwcnLS\nzzdFeinmBACvPjRdCcAVPSz3+a5ehRg+HO8fPYpmUVF4NzGRp5kTkRLPGuHa29s/831nZ+cCjZDz\n06RJE/z555/48ssvERwc/MT7BRkxA0B0dDTc3NyQkZHxxA0yIiMjkZiYCGdn5ycKOCMjA7a2ti+U\nnfKnj2IOB1BDCFEVwGUAvQD01sNyn2/rVgBA+23b4O/vj1L9+xfDwW0iIsPRpEkT9O/fH4GBgahY\nseIT7xdkxJySkgIrKyvY29vD3t4e2dnZSE9Ph62tLRITE9GnTx9s374do0ePxu7du9GuXTsAQHJy\nMsqVK6fTfaHpSToPMKWUWgAjAewGEAtgk5QyWtflFsbbb7+NihUr4ssvvyzO1RIRKVerVi3Y2Nhg\n4sSJL7yMqKgo1KlTJ2/a19cXYWFhSEtLg7+/P4KCguDq6oqpU6fik08+yZtv3759+R47J93o5SEW\nUsqdAHbqY1kvwtLSEhMmTMCVK1eQk5MDCwvu0CYi87B48WLMnTsXDg4OL7yMpk2bYvPmzXnTI0eO\nxMKFC+Hj44O//vor7+teXl6PTK9btw5z58594fVS/kzm6VIPTt8nIjIH58+fx5tvvonmzZsjICBA\nr8uuX78+vL298872zk9mZiY6d+6MmjVr6nXdZELFDAA5OTnYs2cPvLy8YG9vrzoOEVGRee2113D6\n9OkiW/6AAQOe+b61tTX69etXZOs3Zya1z/fgwYPo0KED70RDRERGy6SKuXnz5qhduzZPAiMiIqNl\nUsUshMCIESMQERGBI0eOqI5DRERUaCZVzADQr18/ODk5YenSpaqjEBERFZrJFbOTkxMCAgJw8OBB\nZGVlqY5DRERUKCZXzAAwe/ZsxMbG8m40RERkdEzqcqkHSpQoASD3OjuNRvPMZ4oSEREZEpMcMQO5\nzxetUqVK3uPJiIhM0b1799CyZUtkZ2cjODgYNWvWRPXq1TFv3rznfraw8xfUhQsXUKtWLQwaNAh1\n6tRBnz59sHfvXjRv3hw1atTIOzm3c+fOaNiwIdzc3PDNN98AAMLDw+Hh4YH09HTcvXsXbm5uiIqK\neub6xo0bh9q1a2Pw4MF52+JpMjMz4eXlBa1Wm++0ITDZYn7ttddgbW3Nk8CIyKStWLEC/v7+AIDA\nwEDs2rULMTExWL9+PWJiYp76uezs7ELNX1jnzp3DmDFjcOrUKZw+fRrr1q1DWFgYFixYgDlz5uRl\nP3r0KCIiIrBkyRIkJyejUaNG6NSpE6ZMmYIJEyagb9++j9zH+3FxcXH4888/ERMTg3r16sHf3/+Z\ne0mtra3Rpk2bvPtdPD5tCEy2mC0tLTFs2DD89ttviI2NVR2HiAhITARatgSSkvS2yLVr18LPzw9H\njhxB9erVUa1aNVhbW6NXr17Yvn37Uz9X2PkLq2rVqnB3d897ZnSbNm0ghIC7uzsuXLgAAFiyZAnq\n1q2LJk2a4NKlSzh79iwAYNq0aQgJCUFERAQmTJjw1HWcOXMGLVu2RHx8POrXr49vv/0Wfn7/e8ag\nt7c3QkJCAABTpkzJu3Vz586dsXbt2rz5Hp9WzWSLGQAGDRrEUTMRGY6ZM4GwMGDGDL0sLjMzE3Fx\ncXBxccHly5fx6quv5r1XqVIlXL58+amfLcj8LVq0QL169Z547d2797nZbGxs8v5uYWGRN21hYQGt\nVovQ0FDs3bsXf/31F06ePIn69evnPQf65s2bSE1NRUpKyhPPhn5YzZo1ERAQgJkzZ+Lw4cNITEyE\ni4tL3vvTp0/H7NmzsXbtWhw/fhyLFi0CANSpUwfh4eF58z0+rZpJnvz1QLly5dCrVy+sXr0ac+bM\nyTspjIioWNnZAQ8XzLJluS9bW+DevRde7I0bN1CqVCkAgJTyifeFEE/9bEHmL8iznF/U7du3Ubp0\nadjb2+P06dM4dOhQ3ntDhgzBzJkz8c8//2DixIn44osvnrqcyMhI+Pn5PbItHvDy8oKUEgsXLkRo\naGjeLm6NRgNra2ukpKTAycnpiWnVTHrEDACTJk3CTz/9ZBAbm4jMVFwc0Ls38ODhOvb2QJ8+wD//\n6LRYOzu7vBFlpUqVcOnSpbz3EhIS8Morrzz1swWZX5cR8/O0b98eWq0WHh4emDp1Kpo0aQIAWLNm\nDSwtLdG7d29MmjQJ4eHh+P3335+6nOjoaLi5uT2yLR6IjIxEYmIibGxsnuiAjIwM2NraPnVaKSll\nsb8aNmwoiYiMWUxMTOE+MGyYlBYWUtra5v45fLheclSqVEneu3dPZmVlyapVq8q4uDiZkZEhPTw8\nZFRUVN58rVu3lgkJCXnTz5vfGNy5c0fWqlUrb/rBtpBSyitXrkh3d3cZExMjfXx8ZHBwcN58N27c\neORzj0/rKr+fDQARsoAdafIjZiB3l8nYsWP18r88IqIXcvUqMGwYcOhQ7p96OgHM19cXYWFhsLS0\nxBdffIF27drB1dUVPXr0gJubG4DcR+KeO3cOZcqUyfvcs+Y3FlFRUY+csf1gW6SlpcHf3x9BQUFw\ndXXF1KlT8cknn+TNt2/fPnTs2PGp08oVtMH1+SruEXNGRoasUKGCbN++fbGul4hMV6FHzEXk2LFj\nsm/fvs+cJzIyUo4dO7bIMqSmpsp+/frJQYMGyR9++CHfeVJSUmRmZmahlvvwZ/bt2yffeOMNOXTo\nULlv37585y/ItpBSyi5dusjTp08/dVpXHDEXgLW1NYYPH47g4GD8/fffquMQEelN/fr14e3t/cyb\natSpUwcLFy4ssgxbt25Ft27dsHz58kdu6nTmzBksWrQIQ4cOxdSpUx85Bnz9+nW89957SEhIwIAB\nA/KebfC0zwgh4OjoiPT0dFSqVCnfHAXZFpmZmejcuTNq1qyZ77RBKGiD6/Ol4hhzUlKStLa2lqNG\njSr2dROR6TGUEbMhmDNnjjx+/LiUUsp33nlHSpm7fV5//XUZEBAgT548me/npk2bJnv06CFTUlKe\n+5ns7GwpZe7v8t69exfVt6IXHDEX0EsvvYSePXti1apVuHPnjuo4REQmo1KlSkhISACQezwbAFxd\nXXHmzBlMmTIFf/zxBwYPHozk5OS8z6SmpiIuLg6WlpZwdHR87mcsLHLrqnTp0sjIyCjOb6/YmfR1\nzI8bM2YMLCwscPfuXV7TTESkJ/7+/hg5ciR27NiBt99+G0DupUqTJ09+ZL4Hu5i1Wi1Gjx6NWbNm\nYdOmTQgNDUWrVq2e+ZmtW7di9+7duHXrFkaOHFkM35U6QuZzkXlR8/T0lBEREcW+XiIifYmNjYWr\nq6vqGGSA8vvZEEIclVJ6FuTzZrMr+2HHjh3D8ePHVccgIiJ6glntygZyd6G89dZbcHd3x+7du1XH\nISIieoTZjZgtLS0RGBiIPXv26PURZ0RERPpgdsUM5N4g3dbWFkuWLFEdhYiI6BFmWczlypVDnz59\nsGbNGty8eVN1HCIiojxmWcxA7qVT1tbWPAmMiIgMitmd/PWAu7s7EhMTYWdnpzoKERFRHrMdMQO5\nzzKVUuL69euqoxAREQEw82IGgC5duqBTp06qYxAREQFgMcPHxweHDh3C4cOHVUchIqICatasmeoI\nRcbsizkgIAAlS5bE559/rjoKEVGh3bt3Dy1btsTdu3fRuHFj1K1bF25ubvj444/1vq7FixejTp06\ncHNzU/478+DBgy/82XHjxqF27doYNWpU3vZ72qMiMzMz4eXlBa1Wm+90UTD7YnZycsLgwYOxefNm\nXLx4UXUcIqJCWbFiBfz9/WFvb4/ff/8dJ0+exIkTJxAcHIxDhw7pbT1RUVFYvnw5jhw5gpMnT+LX\nX3/F2bNn9bZ8ALhw4QJq1aqFQYMGoU6dOujTpw/27t2L5s2bo0aNGjhy5EjevI6Ojrhw4QJcXV0x\nePBguLm5wdfXF/fu3XvmOuLi4vDnn38iJiYG//3vf/O2n0ajyXd+a2trtGnTBhs3bsx3uiiYfTED\nwKhRowAA3377reIkRESFs3btWvj5+UEIkff4xKysLGRlZUEIobf1xMbGokmTJrC3t4elpSVatmyJ\nbdu26W35D5w7dw5jxozBqVOncPr0aaxbtw5hYWFYsGAB5syZ88T8Z8+eRWBgIKKjo1GqVCls2bLl\nqcs+c+YMWrZsifj4eNSvXx93797N234A4O3tjZCQEADAlClTMHr0aABA586dsXbt2rzlPD6tb2Z7\nudTDKleujN9//x1NmjRRHYWITFhiItCrF7BxI/Dyy7ovLzMzE3FxcXBxcQGQ+4jEhg0b4ty5cwgM\nDMT//d//6b6S++rUqYOPPvoIycnJsLOzw86dO+Hp+ejDklq0aIGUlJQnPrtgwQL4+PgUaD1Vq1aF\nu7s7AMDNzQ1t2rSBEALu7u64cOFCvvPXq1cPANCwYcN853mgZs2aCAgIgIuLCwYNGvTE9ps+fTqm\nTZuGa9eu4fjx4/j555/zvvfw8PBHtsXD0/rGYr7Py8tLdQQiMnEzZwJhYcCMGcCXX+q+vBs3bqBU\nqVJ50xqNBidOnMCtW7fQpUsXREVFoU6dOs9djo+PD5KSkp74+uzZs/NGk66urpg4cSLatm0LR0dH\n1K1bF5aWj1bIgQMHdPyOABsbm7y/W1hY5E1bWFjke1z34fk1Gs1zd2VHRkbmfU+Pbz8vLy9IKbFw\n4UKEhobm7d7WaDSwtrZGSkoKnJycnpjWNxbzQzZs2IBly5bh999/f+rxBiKiwrKzA9LT/ze9bFnu\ny9YWeE6PPGe5dkh/eMH3lSpVCq1atUJwcHCBinnv3r0FWt/AgQMxcOBAAMB//vMfVKpU6ZH39TFi\nLmrR0dFwc3MD8OT2i4yMRGJiIpydnZ8o3IyMDNja2j51Wp94jPkh1tbW2L9/P7Zv3646ChGZkLg4\noHdvwN4+d9reHujTB/jnH92WW7p0aWRnZyM9PR3Xr1/HrVu3AOSeqb13717UqlUrb942bdrg8uXL\nOq3v2rVrAICLFy9i69ateOeddx55/8CBAzhx4sQTL0Mp5ZSUFFhZWcH+/j/Ew9svMTERffr0wfbt\n2+Hg4PDIY4GTk5NRrlw5WFlZ5TutbxwxP8TPzw9Vq1bFwoUL4e/vrzoOEZmIChWAEiVyR822trl/\nliihn+PMvr6+CAsLQ/ny5REQEIDs7Gzk5OSgR48eeOuttwAAOTk5OHfuHMqUKaPTurp27Yrk5GRY\nWVlh6dKlKF26tO7fwENcXFwQFRWVN71q1aqnvpeamgoAj3xt/Pjxz1x+frv2fX19sWfPHsydOxdB\nQUFwdXXF1KlTMXHiRLRr1w4AsG/fPnTs2DHvM49P652UsthfDRs2lIbq888/lwDk4cOHVUchIgMW\nExNTqPm7dJFyxAgpT5zI/bNLF/3kOHbsmOzbt+8z54mMjJRjx47VzwpNTEG2X5cuXeTp06efOv24\n/H42AETIAnYkd2U/ZsCAAShRogSCgoJURyEiE7J1K7B0KVC3bu6fW7fqZ7n169eHt7f3U2+QAeSe\nRbxw4UL9rFAP7t69i4CAAAwePPiZlx2lpqYiKyurwMt9fP7Q0FC0aNECw4YNQ2hoaL6fed72y8zM\nROfOnVGzZs18p4sCi/kxTk5OWLRoUd4JDkREhm7AgAFGdcLq1q1b0a1bNyxfvjzvkqQHzpw5g0WL\nFmHo0KGYOnVq3slZ169fx3vvvYeEhAQMGDAgr4CfNj+AvGu709PTnzhR7WHP2n7W1tbo16/fU6eL\nAo8x52PAgAGqIxARmayEhIS8a5UfLsTY2Fh07twZTZs2xQcffAAPD4+898qVK4fKlStj3Lhx+O67\n72BlZfXM+YHcs8RbtmyJq1ev4oMPPijSm4LoE0fMT5GUlIRJkybh33//VR2FiMikVKpUCQkJCQBy\nT0x7wNXVFWfOnMGUKVPwxx9/YPDgwUhOTgaQu5s6Li4OlpaWeXc4e9b8QO61z0Du2dcZGRnF9e3p\njCPmp7h69So+/fRTlCpVCpMmTVIdh4jIZPj7+2PkyJHYsWMH3n777byvR0ZGYvLkyY/Mm52dDa1W\ni9GjR2PWrFnYtGkTQkND0apVq6fO/8DWrVuxe/du3Lp1CyNHjizab0qPRO7JYsXL09NTRkREFPt6\nC8vX1xdRUVG4cOECrK2tVcchIgMSGxsLV1dX1THIAOX3syGEOCql9HzKRx7BXdnPMH78eCQmJmL9\n+vWqoxARkZlgMT9D27Zt4e7ujgULFkDFngUiIjI/LOZnEEJg4sSJcHd3z/f+r0RERPrGk7+eo0+f\nPujTp4/qGEREZCY4Yi6gyMhI/P3336pjEJEB4SEuepw+fiZYzAWQlpaGN954A9OmTVMdhYgMhK2t\nLZKTk1nOlEdKieTkZJ0fB8ld2QVgb2+PoUOHIigoCHPmzEG1atVURyIixR7cJOP69euqo5ABsbW1\nfebtPwuC1zEX0JUrV+Di4oIhQ4bgiy++UB2HiIiMSLFdxyyE+EwIcVoIcUoIsU0IUUqX5RmyV155\nBe+++y5WrFjB/yETEVGR0fUYcwiAOlJKDwB/A5j8nPmN2vjx42FpaYmjR4+qjkJERCZKp2PMUso9\nD00eAtBNtziGzdXVFYmJiXBwcFAdhYiITJQ+z8oeAGCXHpdnkBwcHCClRGJiouooRERkgp5bzEKI\nvUKIqHxefg/N8xEALYCnPuxSCDFECBEhhIgw9mO0Q4cORdOmTfMe1E1ERKQvzy1mKaWPlLJOPq/t\nACCECADwFoA+8hmneEspv5FSekopPcuVK6e/70CBt99+G/Hx8di4caPqKEREZGJ0ulxKCNEewEIA\nLaWUBR4GG+PlUg/LycmBh4cHAODUqVN5D+MmIiLKT3E+9vELAE4AQoQQJ4QQX+m4PKNgYWGBSZMm\nITo6Gjt27FAdh4iITIhOxSylrC6lfFVKWe/+a5i+ghm6nj17okqVKvjuu+9URyEiIhPCW3K+ICsr\nK+zcuZO35yQiIr1iMeugdu3aAIDs7GxoNBrFaYiIyBTwrCUdhYeH47XXXsOpU6dURyEiIhPAYtZR\n9erVkZycjHnz5qmOQkREJoDFrKPSpUtj+PDh2LhxI86dO6c6DhERGTkWsx6MHTsWVlZW+PTTT1VH\nISIiI8di1oMKFSpg4MCBWL16NS5fvqw6DhERGTGela0nEydORLt27VChQgXVUYiIyIixmPWkcuXK\nqFy5suoYRERk5LgrW4+klJg2bRrP0CYiohfGYtYjIQROnz6NuXPn4tatW6rjEBGREWIx69nkyZNx\n584dLF26VHUUIiIyQixmPatfvz46duyIRYsWITU1VXUcIiIyMizmIjBlyhQkJyfjq6/M4imYRESk\nRyzmItC0aVN88sknaN26teooRERkZHi5VBH5+OOPVUcgIiIjxBFzEYqLi8OYMWOQkZGhOgoRERkJ\nFnMRiouLw5IlS7By5UrVUYiIyEiwmItQmzZt0KRJE8ybNw9ZWVmq4xARkRFgMRchIQSmTp2K+Ph4\nfP/996rjEBGREWAxF7EOHTqgYcOGmD17NrRareo4RERk4FjMRUwIgU8++QQdOnRAWlqa6jhERGTg\nhJSy2Ffq6ekpIyIiin29REREKgghjkopPQsyL0fMxWj//v3Ys2eP6hhERGTAeIORYiKlxJgxY5Ca\nmorY2FhYWnLTExHRkzhiLiZCCHz88cc4d+4c1q1bpzoOEREZKB5jLkZSSjRo0AB3795FTEwMR81E\nRGaCx5gN1INR89mzZ7F+/XrVcYiIyACxmIuZn58ffHx8eE0zERHli/tSi5kQAiEhIapjEBGRgeKI\nWZHs7Gxs3ryZ99AmIqJHsJgV+e2339CjRw+sWbNGdRQiIjIgLGZF2rZti8aNG2PmzJnIzMxUHYeI\niAwEi1kRIQRmzJiB+Ph4rFixQnUcIiIyECxmhXx9fdGsWTPMnj0b6enpquMQEZEBYDEr9GDUbG9v\nj4sXL6qOQ0REBoCXSynWunVrxMTEQKPRqI5CREQGgCNmxYQQ0Gg0SE1NxaFDh1THISIixVjMBmLQ\noEF46623cOfOHdVRiIhIIRazgfjggw+QnJyMzz//XHUUIiJSiMVsIBo3bozOnTsjKCgIN2/eVB2H\niIgUYTEbkJkzZyIlJQXz589XHYWIiBRhMRuQOnXq4J133kF0dDRUPCebiIjU4+VSBua7776Dra2t\n6hhERKQIR8wG5kEpJyQkIDExUXEaIiIqbixmA5Samoo6dergo48+Uh2FiIiKGYvZADk6OmLgwIFY\nvXo1YmJiVMchIqJixGI2UJMnT4aDgwOmTJmiOgoRERUjFrOBcnZ2xocffoht27bh8OHDquMQEVEx\nYTEbsLFjx6JChQo4ePCg6ihERFRMeLmUAXN0dMTff/8NR0dH1VGIiKiYcMRs4B6U8qlTp5CTk6M4\nDRERFTUWsxEIDQ1F3bp1sXnzZtVRiIioiLGYjUCLFi3g4eGB//znP8jMzFQdh4iIihCL2QhoNBrM\nmzcPcXFx+Prrr1XHISKiIsRiNhLt27dH69atMWPGDNy5c0d1HCIiKiIsZiMhhMD8+fORmZmJY8eO\nqY5DRERFRC+XSwkhxgP4DEA5KeUNfSyTntSwYUMkJCTAyclJdRQiIioiOo+YhRCvAmgL4KLuceh5\nnJycIKXkqJmIyETpY1f2IgATAEg9LIsKICgoCI0bN0ZsbKzqKEREpGc6FbMQohOAy1LKk3rKQwUQ\nEBAAe3t7TJo0SXUUIiLSs+cWsxBirxAiKp+XH4CPAEwryIqEEEOEEBFCiIjr16/rmtuslStXDpMn\nT8bPP/+M0NBQ1XGIiEiPhJQvtgdaCOEO4DcAafe/VAnAFQCNpZRJz/qsp6enjIiIeKH1Uq579+6h\nZs2aKF++PI4cOQILC55gT0RkqIQQR6WUngWZ94V/m0spI6WU5aWULlJKFwAJABo8r5RJP+zs7DBn\nzhzcuHEDly5dUh2HiIj0hMMsI9a7d2+cPn0aVapUUR2FiIj0RG/FfH/kzGuYi5GFhQVsbW2Rnp6O\nQ4cOqY5DRER6wBGzCRg1ahR8fX3Bk+qIiIwfi9kEjBs3Dmlpafjkk09URyEiIh2xmE1ArVq1MHz4\ncHz99deIjo5WHYeIiHTAYjYRn3zyCZycnDBu3DjVUYiISAcsZhNRtmxZTJs2DXfu3OFjIYmIjNgL\n32BEF7zBSNHIzs6GhYUFhBCqoxAR0UOK5QYjZHg0Gg2EELh69Sp+//131XGIiOgFsJhN0NChQ9Gt\nWzfcvHlTdRQiIiokFrMJmjFjBm7fvo3p06erjkJERIXEYjZBHh4eGDx4MJYuXYqYmBjVcYiIqBBY\nzCZq5syZcHJywvvvvw8VJ/gREdGLYTGbqHLlymH69OlwdnZGenq66jhERFRAvFzKhEkpeekUEZEB\n4OVSBAB5pRwZGYmNGzcqTkNERAXBYjYD06dPx8CBA3H58mXVUYiI6DlYzGZg/vz50Gq1mDhxouoo\nRET0HCxmM1CtWjWMHz8ea9euxYEDB1THISKiZ2Axm4nJkyfj1VdfxciRI6HValXHISKip7BUHYCK\nh4ODA5YsWYLw8HBotVpYWvKfnojIEPFyKSIioiLGy6XomYKDg/Hxxx+rjkFERPlgMZuhffv2YcaM\nGfjrr79URyEiosewmM3Q1KlT8corryAwMBDZ2dmq4xAR0UNYzGbI0dERixYtwvHjx7Fs2TLVcYiI\n6CEsZjPVvXt3tG3bFh999BHxn2fHAAAe9UlEQVSuXbumOg4REd3Ha2bMlBACS5cuRWhoKJydnVXH\nISKi+1jMZqxGjRqoUaMGAD6JiojIUHBXNmHDhg1o1qwZMjIyVEchIjJ7LGZCyZIlcejQISxYsEB1\nFCIis8diJnTo0AFdu3bFrFmzcP78edVxiIiUWbJkCS5duqQ0A4uZAACLFy+GlZUVRowYARW3aSUi\nUm3Pnj0YM2YMVq5cqTQHi5kAABUrVsScOXOwZ88e/Pnnn6rjEBEVq3v37mHEiBGoUaMGJkyYoDQL\nz8qmPMOHD0fdunXxxhtvqI5CRFSsZs+ejfPnz+O3336Dra2t0iwcMVMejUaDFi1aAACuXLmiOA0R\nUfGIjo7G/Pnz0a9fP7Ru3Vp1HBYzPWnXrl1wcXHBgQMHVEchIipyFSpUwLBhwwzmyhQ+j5mecPfu\nXbi5ucHe3h7Hjx+HjY2N6khEREaNz2MmnTg4OGDZsmWIjY3F3LlzVcchIioSly9fhre3N6Kjo1VH\neQSLmfLVoUMH9O7dG3PmzDG4H1oiIl1JKTFixAgcOnRI+clej2Mx01N9/vnncHZ2xuHDh1VHISLS\nqy1btuDnn3/GjBkz8Nprr6mO8wgeY6Znunv3LhwcHFTHICLSm3///Re1a9dGhQoVcOTIEVhaFv2V\nwzzGTHrzoJSDg4Nx4cIFtWGIiPRg4cKFuH79Or799ttiKeXCYjHTcyUnJ6N79+4YNmwYb9dJREZv\nypQpCA4ORoMGDVRHyReLmZ6rbNmymDNnDnbv3o01a9aojkNE9ELu3r2LO3fuwMbGBj4+PqrjPBWL\nmQokMDAQzZs3x/vvv8+7ghGRUZo0aRI8PDyQmpqqOsozsZipQCwsLLBixQqkp6dj+PDh3KVNREbl\nwIED+OKLL+Dn5wdHR0fVcZ7J8I56k8F6/fXXERQUBGtra9VRiIgKLC0tDQMGDEDVqlUxZ84c1XGe\ni8VMhTJixAjVEYiICuXjjz/GuXPn8NtvvxnF5Z/clU0vZOXKlXjvvfe4S5uIDFp2djaioqIwZMgQ\ng3hyVEFwxEwv5Nq1a1i1ahXatWuHXr16qY5DRJQvjUaDnTt3IjMzU3WUAuOImV7IuHHj0LhxYwQG\nBiIxMVF1HCKiJyxfvhyXLl2CEMKonpLHYqYXYmlpidWrVyMtLQ1DhgzhLm0iMiihoaEYMmQIFi9e\nrDpKobGY6YXVqlULc+fOxa+//oqDBw+qjkNEBABITU3Fe++9h+rVq2P69Omq4xQajzGTTkaPHo1G\njRqhefPmqqMQEQEAPvzwQ8THx+PAgQNGcRb24zhiJp1YWFjklXJsbCxycnIUJyIicxYSEoKvvvoK\nH3zwgdEOGFjMpBdHjx6Fu7s7vvzyS9VRiMiMNW7cGJMnT8asWbNUR3lhfB4z6YWUEm+++Sb27duH\n48ePo1atWqojEZEZkVJCq9XCyspKdZR88XnMVOyEEPjuu+/g4OCAvn37GtU1g0Rk/NauXQtPT08k\nJSWpjqIznYtZCDFKCHFGCBEthJivj1BknCpUqIDly5fj6NGjmDFjhuo4RGQmLl68iMDAQDg5OaFc\nuXKq4+hMp7OyhRDeAPwAeEgpM4QQ5fUTi4xVly5dMHjwYNja2qqOQkRmICcnB/3790dOTg7WrFkD\njUajOpLOdL1cajiAeVLKDACQUl7TPRIZu6+//hpCCNUxiMgMBAUFYd++ffj2229RrVo11XH0Qtdd\n2a8DaCGEOCyE+EMI0Ugfoci4PSjl4OBgjB8/XnEaIjJV2dnZ+PHHH+Hv748BAwaojqM3zx0xCyH2\nAng5n7c+uv/50gCaAGgEYJMQoprM51RvIcQQAEMAoHLlyrpkJiNx8OBBBAUFwdPTkw+6ICK902g0\n2L9/P9LT001qL51Ol0sJIYKRuys79P70eQBNpJTXn/U5Xi5lHrRaLby8vBAdHY2TJ0/CxcVFdSQi\nMhErV66Ev78/SpYsqTpKgRTn5VI/AWh9f6WvA7AGcEPHZZKJsLS0xNq1ayGlRJ8+faDValVHIiIT\nsG3bNgwYMABLly5VHaVI6FrMKwBUE0JEAdgAICC/3dhkvqpWrYqvvvoKBw8exKZNm1THISIjl5CQ\ngEGDBqFhw4Ymew6LTmdlSykzAfTVUxYyUb1798ZLL72E1q1bq45CREZMq9Wid+/eyMjIwLp162Bt\nba06UpHgnb+oWLRp0wZCCJw/fx7Jycmq4xCREZo/fz4OHDiAZcuW4fXXX1cdp8jwsY9UbFJTU9Gk\nSRM0bdoU27dvN6mzKImo6AUEBMDa2hrvvvuu6ihFiiNmKjaOjo6YMmUKfvnlFyxevFh1HCIyEikp\nKcjJyUHFihVN9rjyw1jMVKxGjx6NTp06YcKECeAlc0T0PDk5OejVqxc6d+4Mczm3mMVMxUoIgZUr\nV+Lll19Gz549cfv2bdWRiMiALVy4EDt37kS7du3M5vAXi5mKXZkyZbBhwwb4+PgY7LNTiUi9sLAw\nTJo0CV27dsWIESNUxyk2Ot3560Xxzl/0sJycHFhY8P+IRPQ/165dQ/369WFvb4+IiAijucPX0xTn\nnb+IdHL27FnUrVsXhw4dUh2FiAxIYmIiHBwcsHnzZqMv5cJiMZNSzs7OuHv3Lnr06IEbN3g3VyLK\nVbduXcTGxqJevXqqoxQ7FjMpVbp0afz444+4du0a+vbti5ycHNWRiEihvXv34sMPP0RWVhY0Go3q\nOEqwmEm5Bg0aYPHixdi9ezdmz56tOg4RKXLx4kW888472LlzJzIzM1XHUYbFTAZhyJAh6Nu3L/bs\n2cOnUBGZofT0dHTt2hWZmZnYtm0bHBwcVEdShrfkJIMghMA333wDjUYDS0v+WBKZm1GjRiEiIgI/\n/fSTSd8HuyA4YiaDYWdnB2trayQnJ2PUqFFIS0tTHYmIisG5c+fwww8/4D//+Q/8/PxUx1GOQxMy\nOMePH8fSpUtx8+ZN/PDDD2Zztx8ic1W9enUcP34cNWrUUB3FIHDETAbHx8cHM2fOxLp167BkyRLV\ncYioiFy9ehXr168HANSqVctsz8J+HIuZDNLkyZPh5+eHcePG4ffff1cdh4j0LDMzE127dsXAgQNx\n+fJl1XEMCouZDJKFhQXWrFmDmjVrYty4cby+mcjEjB49Gn/++SdWrlyJihUrqo5jUHiMmQxWiRIl\n8Ouvv8Le3p730iYyIV999RW+/vprTJo0CT179lQdx+Dwtx0ZtKpVq+Kll16CVqvFihUrOHImMnLx\n8fEYPXo0OnTogFmzZqmOY5BYzGQUfvrpJwwcOBAzZsxQHYWIdFClShVs3LgR69at48leT8FiJqPQ\ntWtXvPfee5g+fTo2btyoOg4RFdKdO3dw5MgRAECXLl1QqlQpxYkMF4uZjIIQAsuWLcMbb7yB/v37\n4/Dhw6ojEVEBZWdn45133kHr1q35FLkCYDGT0bCxscG2bdvwyiuvoHfv3sjKylIdiYgKYPz48di5\ncyeCgoLg7OysOo7B41nZZFScnZ3x66+/Ii0tDVZWVqrjENFzfPPNN/j8888xZswYDB06VHUco8AR\nMxkdV1dXNGzYEACwc+dOZGdnK05ERPk5duwYRowYgfbt22PBggWq4xgNFjMZrYMHD+LNN9/EmDFj\nIKVUHYeIHlOvXj189tln2LRpE58aVwgsZjJazZo1w/jx47F06VIsXLhQdRwiuu/y5cu4ePEiLCws\nMHbsWDg5OamOZFT4Xxgyap9++ini4+Mxfvx4VK5cGd27d1cdicispaSk4M0338S9e/cQHR3NkfIL\n4BYjo/bgntpXrlxBv3790Lx5c7zyyiuqYxGZpaysLPTo0QNRUVHYsWMHS/kFcauR0bO1tcX27dux\nf/9+ljKRIlJKDBo0CMHBwVi+fDnatWunOpLR4jFmMglly5ZFly5dAAD79+9HQkKC4kRE5uWLL77A\nmjVrMGPGDAwaNEh1HKPGETOZlLt376Jbt24oX748Dhw4gNKlS6uORGQW+vfvDyEEAgMDVUcxehwx\nk0lxcHDAhg0bcPbsWbz99ttIS0tTHYnIpIWGhuLu3btwcnLCyJEjIYRQHcnosZjJ5LRu3Ro//PAD\nDh48iF69ekGr1aqORGSS9uzZA19fX0yaNEl1FJPCYiaT1L17d/z3v//FL7/8gtWrV6uOQ2RyDh48\niC5duqB27dqYOXOm6jgmhceYyWQFBgbitddeg6+vr+ooRCbl5MmT6NixIypWrIjdu3fzEY56xhEz\nmbT27dvDwsIC//zzDxYtWqQ6DpHRy8nJQUBAAJycnBASEoKXXnpJdSSTwxEzmYVvvvkG8+bNg1ar\nxYcffqg6DpHRsrCwwI8//gitVosqVaqojmOSOGImszBr1iz07NkTEyZMwJdffqk6DpHRuXz5MubO\nnQspJapXr45atWqpjmSyOGIms6DRaPD999/j3r17CAwMhKWlJYYMGaI6FpFRSEpKQps2bXD58mX0\n7NkT1apVUx3JpHHETGbDysoKmzZtQocOHbBixQpeRkVUANevX4ePjw8uXbqEXbt2sZSLAUfMZFZs\nbGywdetWZGRkwNLSElJK3hCB6CmSk5Ph6+uL8+fPY8eOHXjjjTdURzILHDGT2bG1tUXJkiWRlpaG\njh07Yv369aojERmk48eP49y5c9i2bRtat26tOo7Z4IiZzJaUEvfu3UPfvn2h1Wrx7rvvqo5EZBC0\nWi0sLS3h4+ODCxcuoGzZsqojmRWOmMlsOTg4YMeOHfD29kZAQABWrFihOhKRcteuXUOjRo2wadMm\nAGApK8BiJrPm4OCAX375Bb6+vhg4cCBWrVqlOhKRMklJSfD29saZM2fg7OysOo7ZYjGT2bOzs8NP\nP/2Efv36wdPTU3UcIiXi4+PRokULxMfHY+fOnTymrBCLmQi5J4StXr0aderUgZQSISEhkFKqjkVU\nLJKTk9GiRQtcv34dISEhaNWqlepIZo3FTPSY7du3w9fXFxMmTGA5k1koU6YMhgwZgtDQUDRt2lR1\nHLPHs7KJHtOpUyeMHDkSCxYswO3bt7Fs2TJoNBrVsYj07vDhw7C3t4e7uzumTJmiOg7dx2ImeoyF\nhQWWLFmCkiVLYvbs2bh16xbWrFkDW1tb1dGI9GbXrl3o1q0b6tevjwMHDvBGOwaEu7KJ8iGEwKxZ\nsxAUFIRt27bh8OHDqiMR6c3333+PTp06oVatWtiyZQtL2cCwmIme4YMPPsCZM2fQsmVLAEBmZqbi\nRES6WbBgAfr164eWLVti3759fJ6yAWIxEz3Hg5v279ixA7Vr18bp06cVJyJ6MdnZ2QgJCUGPHj2w\nY8cOlChRQnUkygeLmaiAXn75ZaSkpKBZs2b4448/VMchKrC7d+/ixo0b0Gg02LZtG9avXw8bGxvV\nsegpWMxEBdSwYUMcOnQIL730Etq2bYs1a9aojkT0XElJSWjVqhU6deqEnJwc2Nvbw8KCv/oNmU7/\nOkKIekKIQ0KIE0KICCFEY30FIzJEVatWxV9//YUWLVogICAABw4cUB2J6Kmio6PRpEkTxMTEYNKk\nSSxkI6Hrv9J8ANOllPUATLs/TWTSSpUqheDgYKxevZrPpyWDtWPHDjRt2hTp6en4448/0KlTJ9WR\nqIB0LWYJ4MHZAyUBXNFxeURGwcrKCv369YMQAqdPn0abNm1w6dIl1bGIAABZWVkYP348atSogfDw\ncN4D3sjoeoOR9wHsFkIsQG7JN9M9EpFxuXTpEsLDw9GoUSNs2bIFzZs3Vx2JzFR6ejqEELCxsUFw\ncDDKlSsHe3t71bGokJ47YhZC7BVCROXz8gMwHMBYKeWrAMYC+O4Zyxly/zh0xPXr1/X3HRAp1rZt\nWxw6dAiOjo7w9vbGt99+qzoSmaGLFy/Cy8sLw4YNAwBUqVKFpWykhC436RdC3AZQSkopRe6tY25L\nKZ97YZynp6eMiIh44fUSGaKbN2+iV69eCAkJwQ8//IA+ffqojkRm4rfffkOvXr2QkZGB1atXo0uX\nLqoj0WOEEEellAU6pqDrMeYrAFre/3trAGd1XB6R0SpTpgx27dqFJUuWoGvXrgDAp1NRkZJSYt68\nefD19UX58uURHh7OUjYBuhbzYABBQoiTAOYAGKJ7JCLjpdFoMGrUKNja2uLWrVto0qQJdu3apToW\nmajLly9j7ty56NatGw4fPoyaNWuqjkR6oFMxSynDpJQNpZR1pZT/J6U8qq9gRMbuzp07yMjIQMeO\nHTFp0iRkZWWpjkQmIjY2FlJKVKpUCUePHsWGDRvg6OioOhbpCa82JyoilStXxl9//YWhQ4fi008/\nhZeXF/755x/VsciI5eTk4LPPPoOHhwe++y73XNvq1avz6VAmhsVMVITs7Ozw1VdfYdOmTYiNjcWY\nMWNURyIjlZSUhLfeegsTJkyAn58funXrpjoSFRFdr2MmogLo3r07GjVqBCsrKwDAtWvXYGNjg5Il\nSypORsYgODgY7777LlJTU7F06VIMHz6co2QTxhEzUTFxcXFBxYoVAQADBw5E3bp1+ZQqKhBLS0tU\nqVIFx44dw4gRI1jKJo7FTKTARx99BCsrK3h7e2P8+PG4d++e6khkYEJDQ7F48WIAgI+PD44cOQJX\nV1fFqag4sJiJFGjSpAlOnDiBoUOHIigoCPXq1UNMTIzqWGQAUlJSEBgYCG9vbyxbtgzp6ekAwCdD\nmRH+SxMp4uDggGXLlmHPnj1wdnbGK6+8ojoSKbZ37164u7tj2bJlGDt2LI4dOwZbW1vVsaiYsZiJ\nFGvbti3CwsJQqlQpZGVloXPnzti5c6fqWFTMkpKS8Oabb8LGxgZhYWFYuHAh73VtpljMRAbgwck8\nV65cwZkzZ/Dmm2/C39+fj5I0cTk5OdizZw8A4OWXX8aOHTtw4sQJNGvGB/WZMxYzkQGpUqUKTp48\niTlz5iA4OBiurq747LPPoNVqVUcjPTt27BhatGiBdu3aISwsDEDuSV52dnaKk5FqLGYiA2NtbY3J\nkycjJiYGbdq0wffff686EunRtWvXMHjwYHh6euLvv//GypUr+QxvegSLmchAubi4YPv27QgNDYWl\npSVu376NXr16ITo6WnU0ekHZ2dlo1qwZVq1ahbFjx+Ls2bPo378/r0umR7CYiQxcmTJlAACnTp3C\n7t274eHhgaFDh+Ly5cuKk1FBZGdn48cff4RWq4VGo8F///tfREVFISgoCKVKlVIdjwwQi5nISLRo\n0QLnzp1DYGAgVq5cierVq+PDDz9Edna26miUDykldu3ahQYNGqB79+7YunUrAKBDhw58PCM9E4uZ\nyIiULVsWS5YswZkzZ9C9e3ecOXMGGo0GAJCRkaE4HQG5hbxnzx40b94cHTt2RGpqKtavX8+HTlCB\nCSllsa/U09NTRkREFPt6iUyNVquFpaUl4uLi0LhxYwwbNgzvv/8+nJ2dVUczWzk5Oahbty5u376N\nyZMnY+DAgbC2tlYdixQTQhyVUnoWZF6OmImMmKXl/x4Q5+3tjTlz5sDFxQXjxo3DxYsXFSYzH1lZ\nWVi/fj1atWqF27dvw8LCAj/99BPOnj2L4cOHs5Sp0FjMRCagWrVq2Lx5MyIjI+Hn54fFixfD1dUV\nd+7cUR3NZN25cweLFi1C9erV0bt3b1y9ehXx8fEAgNdeew02NjaKE5KxYjETmRA3NzesXbsWcXFx\nWLFiBUqUKAEAGDNmDH744Ye8ByKQbq5evYqKFSvigw8+gIuLC3755RdER0fDw8NDdTQyATzGTGTi\n/v33X/zf//0fzp49i7Jly6J///4YMmQIXn/9ddXRjEZaWhq2bduGCxcu4KOPPgIAzJ49G76+vmjU\nqJHidGQMCnOMmcVMZAZycnKwb98+fPXVV/jpp5+g1Wrx448/omvXrqqjGSwpJcLCwrBq1Sps3rwZ\nKSkpqFWrFk6dOgUrKyvV8cjI8OQvInqEhYUF2rRpg82bN+PixYuYP38+WrduDQBYvnw5OnfujLVr\n1+L27duKk6olpUROTg4AICgoCF5eXti4cSO6du2Kffv2ITo6mqVMRc7y+bMQkSmpUKECPvzww7zp\nzMxMhIeHY/v27bCysoKPjw969uyJgIAAhSmLT2ZmJsLCwrBjxw5s3boVn3/+Ofz8/NClSxeUL18e\nXbt2hYODg+qYZEa4K5uIkJOTg8OHD2PLli3YsmULKlWqhAMHDgAAvv76a9SsWRNNmjSBra2t4qT6\nc+fOHfTv3x8hISFITU2FtbU1fHx8MHHiRHh5eamORyaGx5iJ6IVJKXHz5k2ULVsW6enpKFu2LNLS\n0mBjY4PGjRvDy8sL/v7+aNCggeqoBaLVahETE4PDhw9j//79ePnll/HZZ59BSonmzZvDw8MDHTt2\nRJs2bTgypiJTmGLmrmwieoQQAmXLlgUA2NraIikpCaGhodi/fz/279+PefPmoWTJkmjQoAGSkpIw\nZswYNGzYEO7u7nB1dUXlypVhYfFip68kJgK9egEbNwIvv1z4z6ekpODixYtwc3MDAAwYMAAbNmzA\nvXv3AAAvvfQSevbsmfd9Hjx48IVyEhUljpiJqFBSU1ORnZ2NkiVLIiIiAt27d8eFCxfy3rezs8OW\nLVvQoUMH/P3339i1axcqV66MChUqwNnZGc7OzihZsmS+jzocMQL4+mtg6FDgyy8ffS8rKws3btzA\ntWvX4OHhASEEtm7dil9++QUXLlzA+fPncenSJZQoUQK3bt2CEALz58/HlStX0LhxYzRq1AjVq1fn\nIxZJCY6YiajIODo65v3d09MT//zzD5KTkxEbG5v3qlGjBgDgr7/+wvvvv//EMsLDw+Hp6Ynvv/8e\nM2fOxLlzkZDyf3fKWrYs92VpqUWZMhWRmpqKtLS0vPf//fdflCpVCkePHsWePXtQtWpVeHl5oXbt\n2nBzc0NOTg40Gg0mTJhQhFuCqGhwxExERUZKieTkZMTHx+Pq1au4ceMGbty4gf79+6NMmTLYvXs3\nVq1ahX//tcWpU/1w9WpT5OTYws5Owt9foEOH3xAW9iMcHR3h5OSE8uXLo3z58ujQoQPs7OwgpeQI\nmIwCT/4iIqMzfDjwzTeAtTWQmZn/7mwiY8UbjBCR0bl6FRg2DDh0KPfPpCTViYjU4DFmIjIIW7f+\n7+9Ll6rLQaQaR8xEREQGhMVMRERkQFjMREREBoTFTEREZEBYzERERAaExUxERGRAWMxEREQGhMVM\nRERkQFjMREREBoTFTEREZEBYzERERAZEydOlhBDXAcTrcZHOAG7ocXnmiNtQP7gddcdtqDtuQ93p\nextWkVKWK8iMSopZ34QQEQV9nBblj9tQP7gddcdtqDtuQ92p3IbclU1ERGRAWMxEREQGxFSK+RvV\nAUwAt6F+cDvqjttQd9yGulO2DU3iGDMREZGpMJURMxERkUkw+mIWQrQXQpwRQpwTQkxSncfYCCFW\nCCGuCSGiVGcxVkKIV4UQ+4QQsUKIaCHEGNWZjI0QwlYIcUQIcfL+NpyuOpOxEkJohBDHhRC/qs5i\nrIQQF4QQkUKIE0KIiGJfvzHvyhZCaAD8DaAtgAQA4QDekVLGKA1mRIQQXgBSAayRUtZRnccYCSEq\nAKggpTwmhHACcBRAZ/4cFpwQQgBwkFKmCiGsAIQBGCOlPKQ4mtERQnwAwBNACSnlW6rzGCMhxAUA\nnlJKJdeCG/uIuTGAc1LKOCllJoANAPwUZzIqUsr9AG6qzmHMpJSJUspj9/+eAiAWQEW1qYyLzJV6\nf9Lq/st4Rw2KCCEqAXgTwLeqs9CLM/Zirgjg0kPTCeAvRFJICOECoD6Aw2qTGJ/7u2BPALgGIERK\nyW1YeJ8DmAAgR3UQIycB7BFCHBVCDCnulRt7MYt8vsb/ZZMSQghHAFsAvC+lvKM6j7GRUmZLKesB\nqASgsRCCh1YKQQjxFoBrUsqjqrOYgOZSygYAOgAIvH/Ir9gYezEnAHj1oelKAK4oykJm7P5x0S0A\n1kopt6rOY8yklLcAhAJorziKsWkOoNP946MbALQWQvygNpJxklJeuf/nNQDbkHvYtNgYezGHA6gh\nhKgqhLAG0AvAz4ozkZm5f+LSdwBipZQLVecxRkKIckKIUvf/bgfAB8BptamMi5RyspSykpTSBbm/\nC3+XUvZVHMvoCCEc7p/ECSGEAwBfAMV61YpRF7OUUgtgJIDdyD3hZpOUMlptKuMihFgP4C8ANYUQ\nCUKIgaozGaHmAN5F7gjlxP1XR9WhjEwFAPuEEKeQ+x/uECklL/chFV4CECaEOAngCIAdUsrg4gxg\n1JdLERERmRqjHjETERGZGhYzERGRAWExExERGRAWMxERkQFhMRMRERkQFjMREZEBYTETEREZEBYz\nkRkQQjQSQpy6/9xjh/vPPOa9qIkMEG8wQmQmhBCzANgCsAOQIKWcqzgSEeWDxUxkJu7fTz4cQDqA\nZlLKbMWRiCgf3JVNZD7KAHAE4ITckTMRGSCOmInMhBDiZ+Q+DrAqgApSypGKIxFRPixVByCioieE\n6AdAK6VcJ4TQADgohGgtpfxddTYiehRHzERERAaEx5iJiIgMCIuZiIjIgLCYiYiIDAiLmYiIyICw\nmImIiAwIi5mIiMiAsJiJiIgMCIuZiIjIgPw/dp96h2LqpCEAAAAASUVORK5CYII=\n",
      "text/plain": [
       "<matplotlib.figure.Figure at 0xb29ee80>"
>>>>>>> b15895a... Clase4
      ]
     },
     "metadata": {},
     "output_type": "display_data"
    }
   ],
   "source": [
<<<<<<< HEAD
<<<<<<< HEAD
    "# graficar\n",
    "xnum = np.linspace(0, 5, 100)\n",
    "# Crear ventana de graficos y damos medidas de la ventana\n",
    "plt.figure(figsize=(8,6))\n",
    "# Sirve para hacer el grafico y determinar sus caracteristicas\n",
    "plt.plot(xnum, f(xnum), 'k', label='$y=x^2-6x$')\n",
    "plt.plot([0], [0], '*y', ms=10, label='$(0,0)=max$')\n",
    "plt.plot([3], [-9], '*m', ms=10, label='$(3,-9)=min$')\n",
    "# Nombre del eje x de la grafica\n",
    "plt.xlabel('$x$')\n",
    "# Nombre del eje y\n",
    "plt.ylabel('$y$')\n",
    "# Sirve para poner las etiquetas de las graficas\n",
    "plt.legend(loc='best')\n",
    "# Sirve para poner la cuadricula\n",
    "plt.grid()"
=======
=======
>>>>>>> b15895a... Clase4
    "f_num = sym.lambdify([x], f, 'numpy')\n",
    "x_vec = np.linspace(0, 5, 100)\n",
    "\n",
    "plt.figure(figsize=(8,6))\n",
    "plt.plot(x_vec, f_num(x_vec), 'k--', label = '$y=f(x)$')\n",
    "plt.plot([0], [0], '*r', label = '$(0,0=\\max_{0\\leq x\\leq 5} f(x))$')\n",
    "plt.plot([3], [-9], '*b', label = '$(3,-9=\\min_{0\\leq x\\leq 5} f(x))$')\n",
    "plt.legend(loc='best')\n",
    "plt.xlabel('x')\n",
    "plt.show()"
<<<<<<< HEAD
>>>>>>> parent of 512dd5d... FinClase4
=======
>>>>>>> b15895a... Clase4
   ]
  },
  {
   "cell_type": "markdown",
   "metadata": {},
   "source": [
    "### Actividad\n",
    "Determinar los valores extremos absolutos de $h(x)=x^3-3x$ en $\\left[-2.2,1.8\\right]$, usando `sympy`. Mostrar en una gráfica."
   ]
  },
  {
   "cell_type": "code",
   "execution_count": 48,
   "metadata": {},
   "outputs": [
    {
     "data": {
      "text/latex": [
       "$$x$$"
      ],
      "text/plain": [
       "x"
      ]
     },
     "execution_count": 48,
     "metadata": {},
     "output_type": "execute_result"
    }
   ],
   "source": [
    "sym.var('x', real = True)"
   ]
  },
  {
   "cell_type": "code",
   "execution_count": 49,
   "metadata": {
    "collapsed": true
   },
   "outputs": [],
   "source": [
    "def h(x):\n",
    "    return x**3-3*x"
   ]
  },
  {
   "cell_type": "code",
   "execution_count": 50,
   "metadata": {},
   "outputs": [
    {
     "data": {
      "text/latex": [
       "$$3 x^{2} - 3$$"
      ],
      "text/plain": [
       "   2    \n",
       "3⋅x  - 3"
      ]
     },
     "execution_count": 50,
     "metadata": {},
     "output_type": "execute_result"
    }
   ],
   "source": [
    "dh = sym.diff(h(x), x)\n",
    "dh"
   ]
  },
  {
   "cell_type": "code",
   "execution_count": 51,
   "metadata": {},
   "outputs": [
    {
     "data": {
      "text/latex": [
       "$$\\left [ -1, \\quad 1\\right ]$$"
      ],
      "text/plain": [
       "[-1, 1]"
      ]
     },
     "execution_count": 51,
     "metadata": {},
     "output_type": "execute_result"
    }
   ],
   "source": [
    "p_c = sym.solve(dh, x)\n",
    "p_c"
   ]
  },
  {
   "cell_type": "code",
   "execution_count": 52,
   "metadata": {},
   "outputs": [
    {
     "data": {
      "text/latex": [
       "$$\\left ( 2, \\quad -2, \\quad -4.048000000000003, \\quad 0.4320000000000004\\right )$$"
      ],
      "text/plain": [
       "(2, -2, -4.048000000000003, 0.4320000000000004)"
      ]
     },
     "execution_count": 52,
     "metadata": {},
     "output_type": "execute_result"
    }
   ],
   "source": [
    "h(-1), h(1), h(-2.2), h(1.8)"
   ]
  },
  {
   "cell_type": "code",
   "execution_count": 61,
   "metadata": {},
   "outputs": [
    {
     "data": {
      "image/png": "iVBORw0KGgoAAAANSUhEUgAAAcIAAAFACAYAAAAvYHyWAAAABHNCSVQICAgIfAhkiAAAAAlwSFlz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\nFBGRpKZCKCIiSU2FUEREktr/B01dC/4QuLsqAAAAAElFTkSuQmCC\n",
      "text/plain": [
       "<matplotlib.figure.Figure at 0xb2cdeb8>"
      ]
     },
     "metadata": {},
     "output_type": "display_data"
    }
   ],
   "source": [
    "x_vec = np.linspace(-2.2, 1.8, 50)\n",
    "\n",
    "plt.figure(figsize=(7,5))\n",
    "plt.plot(x_vec, h(x_vec), 'b:', label = '$y=x^3-3x$')\n",
    "plt.plot([-2.2], [h(-2.2)], 'mo', label = '(-2.2,-4.048)')\n",
    "plt.plot([-1], [h(-1)], 'yo', label = '(-1,2)')\n",
    "plt.legend(loc='best')\n",
    "plt.xlabel('$x$')\n",
    "plt.ylabel('$y$')\n",
    "plt.grid()\n",
    "plt.show()"
   ]
  },
  {
   "cell_type": "markdown",
   "metadata": {},
   "source": [
    "### En varias variables...\n",
    "\n",
    "El procedimiento es análogo. \n",
    "\n",
    "Si una función $f:\\mathbb{R}^n\\to\\mathbb{R}$ alcanza un máximo o mínimo local en $\\boldsymbol{x}=\\boldsymbol{c}\\in\\mathbb{R}^n$, y $f$ es diferenciable en el punto $\\boldsymbol{x}=\\boldsymbol{c}$, entonces $\\left.\\frac{\\partial f}{\\partial \\boldsymbol{x}}\\right|_{\\boldsymbol{x}=\\boldsymbol{c}}=\\boldsymbol{0}$ (todas las derivadas parciales en el punto $\\boldsymbol{x}=\\boldsymbol{c}$ son cero).\n",
    "\n",
    "**Criterio de la segunda derivada:** para ver si es máximo o mínimo, se toma la segunda derivada (matriz jacobiana) y se verifica definición negativa o positiva, respectivamente.\n",
    "\n",
    "Si se restringe a cierta región, hay ciertas técnicas. La más general, pero también la más compleja es la de **multiplicadores de Lagrange**."
   ]
  },
  {
   "cell_type": "code",
<<<<<<< HEAD
   "execution_count": 87,
=======
   "execution_count": 62,
>>>>>>> b15895a... Clase4
   "metadata": {},
   "outputs": [
    {
     "data": {
      "text/latex": [
       "$$\\left ( x, \\quad y\\right )$$"
      ],
      "text/plain": [
       "(x, y)"
      ]
     },
<<<<<<< HEAD
     "execution_count": 87,
=======
     "execution_count": 62,
>>>>>>> b15895a... Clase4
     "metadata": {},
     "output_type": "execute_result"
    }
   ],
   "source": [
    "sym.var('x y')\n",
    "x, y"
   ]
  },
  {
   "cell_type": "code",
<<<<<<< HEAD
   "execution_count": 88,
   "metadata": {},
=======
   "execution_count": 63,
   "metadata": {
    "collapsed": true
   },
>>>>>>> b15895a... Clase4
   "outputs": [],
   "source": [
    "def f(x, y):\n",
    "    return x**2 + y**2"
   ]
  },
  {
   "cell_type": "code",
<<<<<<< HEAD
   "execution_count": 89,
=======
   "execution_count": 64,
>>>>>>> b15895a... Clase4
   "metadata": {},
   "outputs": [
    {
     "data": {
      "text/latex": [
       "$$\\left ( 2 x, \\quad 2 y\\right )$$"
      ],
      "text/plain": [
       "(2⋅x, 2⋅y)"
      ]
     },
<<<<<<< HEAD
     "execution_count": 89,
=======
     "execution_count": 64,
>>>>>>> b15895a... Clase4
     "metadata": {},
     "output_type": "execute_result"
    }
   ],
   "source": [
    "dfx = sym.diff(f(x,y), x)\n",
    "dfy = sym.diff(f(x,y), y)\n",
    "dfx, dfy"
   ]
  },
  {
   "cell_type": "code",
<<<<<<< HEAD
   "execution_count": 90,
=======
   "execution_count": 65,
>>>>>>> b15895a... Clase4
   "metadata": {},
   "outputs": [
    {
     "data": {
      "text/latex": [
       "$$\\left \\{ x : 0, \\quad y : 0\\right \\}$$"
      ],
      "text/plain": [
       "{x: 0, y: 0}"
      ]
     },
<<<<<<< HEAD
     "execution_count": 90,
=======
     "execution_count": 65,
>>>>>>> b15895a... Clase4
     "metadata": {},
     "output_type": "execute_result"
    }
   ],
   "source": [
    "xy_c = sym.solve([dfx, dfy], [x, y])\n",
    "xy_c"
   ]
  },
  {
   "cell_type": "code",
<<<<<<< HEAD
   "execution_count": 91,
=======
   "execution_count": 67,
>>>>>>> b15895a... Clase4
   "metadata": {},
   "outputs": [
    {
     "data": {
      "text/latex": [
       "$$\\left ( 0, \\quad 0\\right )$$"
      ],
      "text/plain": [
       "(0, 0)"
      ]
     },
<<<<<<< HEAD
     "execution_count": 91,
=======
     "execution_count": 67,
>>>>>>> b15895a... Clase4
     "metadata": {},
     "output_type": "execute_result"
    }
   ],
   "source": [
    "x_c, y_c = xy_c[x], xy_c[y]\n",
    "x_c, y_c"
   ]
  },
  {
   "cell_type": "code",
<<<<<<< HEAD
   "execution_count": 92,
=======
   "execution_count": 68,
>>>>>>> b15895a... Clase4
   "metadata": {},
   "outputs": [
    {
     "data": {
      "text/latex": [
       "$$\\left \\{ 2 : 2\\right \\}$$"
      ],
      "text/plain": [
       "{2: 2}"
      ]
     },
<<<<<<< HEAD
     "execution_count": 92,
=======
     "execution_count": 68,
>>>>>>> b15895a... Clase4
     "metadata": {},
     "output_type": "execute_result"
    }
   ],
   "source": [
    "d2fx = sym.diff(f(x,y), x, 2)\n",
    "d2fy = sym.diff(f(x,y), y, 2)\n",
    "dfxy = sym.diff(f(x,y), x, y)\n",
    "\n",
    "Jf = sym.Matrix([[d2fx, dfxy], [dfxy, d2fy]])\n",
    "Jf.eigenvals()"
   ]
  },
  {
   "cell_type": "code",
<<<<<<< HEAD
   "execution_count": 93,
   "metadata": {},
=======
   "execution_count": 69,
   "metadata": {
    "collapsed": true
   },
>>>>>>> b15895a... Clase4
   "outputs": [],
   "source": [
    "import matplotlib.pyplot as plt\n",
    "from mpl_toolkits.mplot3d import Axes3D"
   ]
  },
  {
   "cell_type": "code",
<<<<<<< HEAD
   "execution_count": 94,
=======
   "execution_count": 70,
>>>>>>> b15895a... Clase4
   "metadata": {},
   "outputs": [
    {
     "data": {
      "text/plain": [
<<<<<<< HEAD
       "[<mpl_toolkits.mplot3d.art3d.Line3D at 0x7f276ea7fe80>]"
      ]
     },
     "execution_count": 94,
=======
       "[<mpl_toolkits.mplot3d.art3d.Line3D at 0xc4ff2e8>]"
      ]
     },
     "execution_count": 70,
>>>>>>> b15895a... Clase4
     "metadata": {},
     "output_type": "execute_result"
    },
    {
     "data": {
<<<<<<< HEAD
      "image/png": "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\n",
      "text/plain": [
       "<Figure size 432x288 with 1 Axes>"
=======
      "image/png": "iVBORw0KGgoAAAANSUhEUgAAAWQAAADuCAYAAAAOR30qAAAABHNCSVQICAgIfAhkiAAAAAlwSFlz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\ngBxHHHHEcYwgHpDjiCOOOI4R/P8/xKWKHvgJVwAAAABJRU5ErkJggg==\n",
      "text/plain": [
       "<matplotlib.figure.Figure at 0xc206c50>"
>>>>>>> b15895a... Clase4
      ]
     },
     "metadata": {},
     "output_type": "display_data"
    }
   ],
   "source": [
    "fig = plt.figure()\n",
    "ax = fig.add_subplot(111, projection='3d')\n",
    "\n",
    "x = np.linspace(-2, 2, 100)\n",
    "y = x\n",
    "X, Y = np.meshgrid(x, y)\n",
    "\n",
    "ax.plot_surface(X, Y, f(X, Y))\n",
    "ax.plot([x_c], [y_c], [f(x_c,y_c)], '*r')"
   ]
  },
  {
   "cell_type": "markdown",
   "metadata": {},
   "source": [
    "### Tareas.\n",
    "\n",
    "1. Por parejas harán un proyecto colaborativo. En moodle subiré como hacerlo paso a paso y qué es lo que se debe entregar. Quien no tenga pareja, acercarse a mi para realizarlo (no se acepta como excusa que no tenía pareja).\n",
    "\n",
    "2. Introducción a numpy. Obtener máximos y mínimos absolutos, usando `sympy`, de las funciones dadas en los intervalos dados, y graficar la función en dicho intervalo señalando los puntos máximo y mínimo absolutos.\n",
    "\n",
    "**Definir fecha de las tareas**\n",
    "\n",
    "**Curso moodle: Simulación matemática | Esteban Jiménez Rodríguez | P. 2018**\n",
    "**Contraseña moodle: simmat2018**\n",
    "\n",
    "**Recordar tarea para hoy y recuento de la clase**"
   ]
  },
  {
   "cell_type": "markdown",
   "metadata": {},
   "source": [
    "<script>\n",
    "  $(document).ready(function(){\n",
    "    $('div.prompt').hide();\n",
    "    $('div.back-to-top').hide();\n",
    "    $('nav#menubar').hide();\n",
    "    $('.breadcrumb').hide();\n",
    "    $('.hidden-print').hide();\n",
    "  });\n",
    "</script>\n",
    "\n",
    "<footer id=\"attribution\" style=\"float:right; color:#808080; background:#fff;\">\n",
    "Created with Jupyter by Esteban Jiménez Rodríguez.\n",
    "</footer>"
   ]
  }
 ],
 "metadata": {
  "kernelspec": {
   "display_name": "Python 3",
   "language": "python",
   "name": "python3"
  },
  "language_info": {
   "codemirror_mode": {
    "name": "ipython",
    "version": 3
   },
   "file_extension": ".py",
   "mimetype": "text/x-python",
   "name": "python",
   "nbconvert_exporter": "python",
   "pygments_lexer": "ipython3",
<<<<<<< HEAD
   "version": "3.6.5"
=======
   "version": "3.6.4"
>>>>>>> b15895a... Clase4
  }
 },
 "nbformat": 4,
 "nbformat_minor": 2
}
